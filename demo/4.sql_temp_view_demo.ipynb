{
 "cells": [
  {
   "cell_type": "code",
   "execution_count": 1,
   "metadata": {},
   "outputs": [
    {
     "name": "stderr",
     "output_type": "stream",
     "text": [
      "/home/sunbeam/.local/lib/python3.6/site-packages/pyspark/context.py:238: FutureWarning: Python 3.6 support is deprecated in Spark 3.2.\n",
      "  FutureWarning\n"
     ]
    }
   ],
   "source": [
    "#Entrypoint 2.x\n",
    "from pyspark.sql import SparkSession\n",
    "from pyspark.sql.types import *\n",
    "from pyspark.sql.functions import *\n",
    "from pyspark.sql.window import Window\n",
    "\n",
    "spark = SparkSession.builder.config(\"spark.sql.shuffle.partitions\", \"2\").appName(\"Analysis\").master(\"local[2]\").getOrCreate()\n",
    "\n",
    "# On yarn:\n",
    "# spark = SparkSession.builder.appName(\"Spark SQL basic example\").enableHiveSupport().master(\"yarn\").getOrCreate()\n",
    "# specify .master(\"yarn\")\n",
    "\n",
    "sc = spark.sparkContext"
   ]
  },
  {
   "cell_type": "code",
   "execution_count": 2,
   "metadata": {},
   "outputs": [],
   "source": [
    "%run \"../includes/configuration\""
   ]
  },
  {
   "cell_type": "code",
   "execution_count": 3,
   "metadata": {},
   "outputs": [],
   "source": [
    "race_results_df = spark.read.parquet(f\"{presentation_folder_path}/race_results\")"
   ]
  },
  {
   "cell_type": "code",
   "execution_count": 10,
   "metadata": {},
   "outputs": [],
   "source": [
    "# temp view"
   ]
  },
  {
   "cell_type": "code",
   "execution_count": 4,
   "metadata": {},
   "outputs": [],
   "source": [
    "race_results_df.createTempView(\"v_race_results\")"
   ]
  },
  {
   "cell_type": "code",
   "execution_count": 8,
   "metadata": {},
   "outputs": [],
   "source": [
    "race_results_2019_df = spark.sql(\"SELECT * FROM v_race_results WHERE race_year = 2019\")"
   ]
  },
  {
   "cell_type": "code",
   "execution_count": 9,
   "metadata": {},
   "outputs": [
    {
     "name": "stdout",
     "output_type": "stream",
     "text": [
      "+---------+--------------------+-------------------+----------------+------------------+-------------+------------------+------------+----+-----------+-----------+------+--------+--------------------+\n",
      "|race_year|           race_name|          race_date|circuit_location|       driver_name|driver_number|driver_nationality|        team|grid|fastest_lap|  race_time|points|position|        created_date|\n",
      "+---------+--------------------+-------------------+----------------+------------------+-------------+------------------+------------+----+-----------+-----------+------+--------+--------------------+\n",
      "|     2019|Australian Grand ...|2019-03-17 05:10:00|       Melbourne|      Carlos Sainz|           55|           Spanish|     McLaren|  18|          9|         \\N|   0.0|    null|2023-08-17 15:42:...|\n",
      "|     2019|Australian Grand ...|2019-03-17 05:10:00|       Melbourne|  Daniel Ricciardo|            3|        Australian|     Renault|  12|         18|         \\N|   0.0|    null|2023-08-17 15:42:...|\n",
      "|     2019|Australian Grand ...|2019-03-17 05:10:00|       Melbourne|   Romain Grosjean|            8|            French|Haas F1 Team|   6|         17|         \\N|   0.0|    null|2023-08-17 15:42:...|\n",
      "|     2019|Australian Grand ...|2019-03-17 05:10:00|       Melbourne|     Robert Kubica|           88|            Polish|    Williams|  20|         30|         \\N|   0.0|      17|2023-08-17 15:42:...|\n",
      "|     2019|Australian Grand ...|2019-03-17 05:10:00|       Melbourne|    George Russell|           63|           British|    Williams|  19|         55|         \\N|   0.0|      16|2023-08-17 15:42:...|\n",
      "|     2019|Australian Grand ...|2019-03-17 05:10:00|       Melbourne|Antonio Giovinazzi|           99|           Italian|  Alfa Romeo|  14|         29|         \\N|   0.0|      15|2023-08-17 15:42:...|\n",
      "|     2019|Australian Grand ...|2019-03-17 05:10:00|       Melbourne|   Alexander Albon|           23|              Thai|  Toro Rosso|  13|         43|         \\N|   0.0|      14|2023-08-17 15:42:...|\n",
      "|     2019|Australian Grand ...|2019-03-17 05:10:00|       Melbourne|      Sergio Pérez|           11|           Mexican|Racing Point|  10|         41|         \\N|   0.0|      13|2023-08-17 15:42:...|\n",
      "|     2019|Australian Grand ...|2019-03-17 05:10:00|       Melbourne|      Lando Norris|            4|           British|     McLaren|   8|         17|         \\N|   0.0|      12|2023-08-17 15:42:...|\n",
      "|     2019|Australian Grand ...|2019-03-17 05:10:00|       Melbourne|      Pierre Gasly|           10|            French|    Red Bull|  17|         39|         \\N|   0.0|      11|2023-08-17 15:42:...|\n",
      "|     2019|Australian Grand ...|2019-03-17 05:10:00|       Melbourne|      Daniil Kvyat|           26|           Russian|  Toro Rosso|  15|         39|         \\N|   1.0|      10|2023-08-17 15:42:...|\n",
      "|     2019|Australian Grand ...|2019-03-17 05:10:00|       Melbourne|      Lance Stroll|           18|          Canadian|Racing Point|  16|         29|         \\N|   2.0|       9|2023-08-17 15:42:...|\n",
      "|     2019|Australian Grand ...|2019-03-17 05:10:00|       Melbourne|    Kimi Räikkönen|            7|           Finnish|  Alfa Romeo|   9|         52|         \\N|   4.0|       8|2023-08-17 15:42:...|\n",
      "|     2019|Australian Grand ...|2019-03-17 05:10:00|       Melbourne|   Nico Hülkenberg|           27|            German|     Renault|  11|         52|         \\N|   6.0|       7|2023-08-17 15:42:...|\n",
      "|     2019|Australian Grand ...|2019-03-17 05:10:00|       Melbourne|   Kevin Magnussen|           20|            Danish|Haas F1 Team|   7|         56|  +1:27.156|   8.0|       6|2023-08-17 15:42:...|\n",
      "|     2019|Australian Grand ...|2019-03-17 05:10:00|       Melbourne|   Charles Leclerc|           16|        Monegasque|     Ferrari|   5|         58|    +58.203|  10.0|       5|2023-08-17 15:42:...|\n",
      "|     2019|Australian Grand ...|2019-03-17 05:10:00|       Melbourne|  Sebastian Vettel|            5|            German|     Ferrari|   3|         16|    +57.109|  12.0|       4|2023-08-17 15:42:...|\n",
      "|     2019|Australian Grand ...|2019-03-17 05:10:00|       Melbourne|    Max Verstappen|           33|             Dutch|    Red Bull|   4|         57|    +22.520|  15.0|       3|2023-08-17 15:42:...|\n",
      "|     2019|Australian Grand ...|2019-03-17 05:10:00|       Melbourne|    Lewis Hamilton|           44|           British|    Mercedes|   1|         57|    +20.886|  18.0|       2|2023-08-17 15:42:...|\n",
      "|     2019|Australian Grand ...|2019-03-17 05:10:00|       Melbourne|   Valtteri Bottas|           77|           Finnish|    Mercedes|   2|         57|1:25:27.325|  26.0|       1|2023-08-17 15:42:...|\n",
      "+---------+--------------------+-------------------+----------------+------------------+-------------+------------------+------------+----+-----------+-----------+------+--------+--------------------+\n",
      "only showing top 20 rows\n",
      "\n"
     ]
    }
   ],
   "source": [
    "race_results_2019_df.show()"
   ]
  },
  {
   "cell_type": "code",
   "execution_count": 11,
   "metadata": {},
   "outputs": [],
   "source": [
    "# global view"
   ]
  },
  {
   "cell_type": "code",
   "execution_count": 21,
   "metadata": {},
   "outputs": [],
   "source": [
    "race_results_df.createOrReplaceGlobalTempView(\"gv_race_results\")"
   ]
  },
  {
   "cell_type": "code",
   "execution_count": 22,
   "metadata": {},
   "outputs": [],
   "source": [
    "yo = spark.sql(\"SHOW TABLES in global_temp\")"
   ]
  },
  {
   "cell_type": "code",
   "execution_count": 23,
   "metadata": {},
   "outputs": [
    {
     "name": "stdout",
     "output_type": "stream",
     "text": [
      "+-----------+---------------+-----------+\n",
      "|  namespace|      tableName|isTemporary|\n",
      "+-----------+---------------+-----------+\n",
      "|global_temp|gv_race_results|       true|\n",
      "|           | v_race_results|       true|\n",
      "+-----------+---------------+-----------+\n",
      "\n"
     ]
    }
   ],
   "source": [
    "yo.show()"
   ]
  },
  {
   "cell_type": "code",
   "execution_count": 27,
   "metadata": {},
   "outputs": [],
   "source": [
    "# using global_temp.tablename because globalTempViews are stored in global_temp database.\n",
    "bye = spark.sql(\"SELECT * FROM global_temp.gv_race_results\")"
   ]
  }
 ],
 "metadata": {
  "kernelspec": {
   "display_name": "Python 3",
   "language": "python",
   "name": "python3"
  },
  "language_info": {
   "codemirror_mode": {
    "name": "ipython",
    "version": 3
   },
   "file_extension": ".py",
   "mimetype": "text/x-python",
   "name": "python",
   "nbconvert_exporter": "python",
   "pygments_lexer": "ipython3",
   "version": "3.6.9"
  }
 },
 "nbformat": 4,
 "nbformat_minor": 2
}
