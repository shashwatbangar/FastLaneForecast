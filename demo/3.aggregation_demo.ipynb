{
 "cells": [
  {
   "cell_type": "code",
   "execution_count": 2,
   "metadata": {},
   "outputs": [
    {
     "name": "stderr",
     "output_type": "stream",
     "text": [
      "/home/sunbeam/.local/lib/python3.6/site-packages/pyspark/context.py:238: FutureWarning: Python 3.6 support is deprecated in Spark 3.2.\n",
      "  FutureWarning\n"
     ]
    }
   ],
   "source": [
    "#Entrypoint 2.x\n",
    "from pyspark.sql import SparkSession\n",
    "from pyspark.sql.types import *\n",
    "from pyspark.sql.window import Window\n",
    "from pyspark.sql.functions import *\n",
    "spark = SparkSession.builder.config(\"spark.sql.shuffle.partitions\", \"2\").appName(\"Analysis\").master(\"local[2]\").getOrCreate()\n",
    "\n",
    "# On yarn:\n",
    "# spark = SparkSession.builder.appName(\"Spark SQL basic example\").enableHiveSupport().master(\"yarn\").getOrCreate()\n",
    "# specify .master(\"yarn\")\n",
    "\n",
    "sc = spark.sparkContext"
   ]
  },
  {
   "cell_type": "code",
   "execution_count": 3,
   "metadata": {},
   "outputs": [],
   "source": [
    "%run \"../includes/configuration\""
   ]
  },
  {
   "cell_type": "code",
   "execution_count": 4,
   "metadata": {},
   "outputs": [],
   "source": [
    "race_results_df = spark.read.parquet(f\"{presentation_folder_path}/race_results\")"
   ]
  },
  {
   "cell_type": "code",
   "execution_count": 5,
   "metadata": {},
   "outputs": [
    {
     "data": {
      "text/plain": [
       "24960"
      ]
     },
     "execution_count": 5,
     "metadata": {},
     "output_type": "execute_result"
    }
   ],
   "source": [
    "race_results_df.count()"
   ]
  },
  {
   "cell_type": "code",
   "execution_count": 6,
   "metadata": {},
   "outputs": [],
   "source": [
    "demo_df = race_results_df.filter(\"race_year == 2020\")"
   ]
  },
  {
   "cell_type": "code",
   "execution_count": 7,
   "metadata": {},
   "outputs": [
    {
     "data": {
      "text/plain": [
       "340"
      ]
     },
     "execution_count": 7,
     "metadata": {},
     "output_type": "execute_result"
    }
   ],
   "source": [
    "demo_df.count()"
   ]
  },
  {
   "cell_type": "code",
   "execution_count": 8,
   "metadata": {},
   "outputs": [
    {
     "name": "stdout",
     "output_type": "stream",
     "text": [
      "+--------+\n",
      "|count(1)|\n",
      "+--------+\n",
      "|     340|\n",
      "+--------+\n",
      "\n"
     ]
    }
   ],
   "source": [
    "demo_df.select(count(\"*\")).show()"
   ]
  },
  {
   "cell_type": "code",
   "execution_count": 9,
   "metadata": {},
   "outputs": [
    {
     "name": "stdout",
     "output_type": "stream",
     "text": [
      "+-------------------------+\n",
      "|count(DISTINCT race_name)|\n",
      "+-------------------------+\n",
      "|                       17|\n",
      "+-------------------------+\n",
      "\n"
     ]
    }
   ],
   "source": [
    "demo_df.select(countDistinct(\"race_name\")).show()"
   ]
  },
  {
   "cell_type": "code",
   "execution_count": 10,
   "metadata": {},
   "outputs": [
    {
     "name": "stdout",
     "output_type": "stream",
     "text": [
      "+-----------+\n",
      "|sum(points)|\n",
      "+-----------+\n",
      "|      347.0|\n",
      "+-----------+\n",
      "\n"
     ]
    }
   ],
   "source": [
    "demo_df.filter(\"driver_name == 'Lewis Hamilton'\").select(sum(\"points\")).show()"
   ]
  },
  {
   "cell_type": "code",
   "execution_count": 11,
   "metadata": {},
   "outputs": [
    {
     "name": "stdout",
     "output_type": "stream",
     "text": [
      "+------------+---------------+\n",
      "|total_points|number of races|\n",
      "+------------+---------------+\n",
      "|       347.0|             16|\n",
      "+------------+---------------+\n",
      "\n"
     ]
    }
   ],
   "source": [
    "demo_df.filter(\"driver_name == 'Lewis Hamilton'\").select(sum(\"points\"), countDistinct(\"race_name\"))\\\n",
    ".withColumnRenamed(\"sum(points)\", \"total_points\").withColumnRenamed(\"count(DISTINCT race_name)\", \"number of races\").show()"
   ]
  },
  {
   "cell_type": "code",
   "execution_count": 12,
   "metadata": {},
   "outputs": [
    {
     "name": "stdout",
     "output_type": "stream",
     "text": [
      "+------------------+-----------+\n",
      "|       driver_name|sum(points)|\n",
      "+------------------+-----------+\n",
      "|  Daniel Ricciardo|      119.0|\n",
      "|      Lance Stroll|       75.0|\n",
      "|   Kevin Magnussen|        1.0|\n",
      "|      Sergio Pérez|      125.0|\n",
      "|    Lewis Hamilton|      347.0|\n",
      "|      Lando Norris|       97.0|\n",
      "|   Valtteri Bottas|      223.0|\n",
      "|       Jack Aitken|        0.0|\n",
      "|    Max Verstappen|      214.0|\n",
      "|   Romain Grosjean|        2.0|\n",
      "|    George Russell|        3.0|\n",
      "|    Kimi Räikkönen|        4.0|\n",
      "|   Alexander Albon|      105.0|\n",
      "|      Daniil Kvyat|       32.0|\n",
      "|   Nicholas Latifi|        0.0|\n",
      "|  Sebastian Vettel|       33.0|\n",
      "|Antonio Giovinazzi|        4.0|\n",
      "|      Esteban Ocon|       62.0|\n",
      "|      Pierre Gasly|       75.0|\n",
      "|      Carlos Sainz|      105.0|\n",
      "+------------------+-----------+\n",
      "only showing top 20 rows\n",
      "\n"
     ]
    }
   ],
   "source": [
    "demo_df.groupBy(\"driver_name\").sum(\"points\").show()"
   ]
  },
  {
   "cell_type": "code",
   "execution_count": 13,
   "metadata": {},
   "outputs": [
    {
     "name": "stdout",
     "output_type": "stream",
     "text": [
      "+------------------+------------+---------------+\n",
      "|       driver_name|total_points|number_of_races|\n",
      "+------------------+------------+---------------+\n",
      "|  Daniel Ricciardo|       119.0|             17|\n",
      "|      Lance Stroll|        75.0|             16|\n",
      "|      Lando Norris|        97.0|             17|\n",
      "|      Sergio Pérez|       125.0|             15|\n",
      "|   Valtteri Bottas|       223.0|             17|\n",
      "|   Kevin Magnussen|         1.0|             17|\n",
      "|    Lewis Hamilton|       347.0|             16|\n",
      "|       Jack Aitken|         0.0|              1|\n",
      "|    George Russell|         3.0|             17|\n",
      "|   Alexander Albon|       105.0|             17|\n",
      "|   Nicholas Latifi|         0.0|             17|\n",
      "|Antonio Giovinazzi|         4.0|             17|\n",
      "|      Esteban Ocon|        62.0|             17|\n",
      "|      Pierre Gasly|        75.0|             17|\n",
      "|  Sebastian Vettel|        33.0|             17|\n",
      "|   Charles Leclerc|        98.0|             17|\n",
      "|   Romain Grosjean|         2.0|             15|\n",
      "|    Kimi Räikkönen|         4.0|             17|\n",
      "|      Daniil Kvyat|        32.0|             17|\n",
      "|      Carlos Sainz|       105.0|             17|\n",
      "+------------------+------------+---------------+\n",
      "only showing top 20 rows\n",
      "\n"
     ]
    }
   ],
   "source": [
    "demo_df.groupBy(\"driver_name\").agg(sum(\"points\").alias(\"total_points\"), countDistinct(\"race_name\").alias(\"number_of_races\")).show()"
   ]
  },
  {
   "cell_type": "code",
   "execution_count": 14,
   "metadata": {},
   "outputs": [],
   "source": [
    "## Window functions"
   ]
  },
  {
   "cell_type": "code",
   "execution_count": 15,
   "metadata": {},
   "outputs": [],
   "source": [
    "demo_df = race_results_df.filter(\"race_year in (2019, 2020)\")"
   ]
  },
  {
   "cell_type": "code",
   "execution_count": 16,
   "metadata": {},
   "outputs": [
    {
     "name": "stdout",
     "output_type": "stream",
     "text": [
      "+---------+--------------------+-------------------+----------------+------------------+-------------+------------------+------------+----+-----------+-----------+------+--------+--------------------+\n",
      "|race_year|           race_name|          race_date|circuit_location|       driver_name|driver_number|driver_nationality|        team|grid|fastest_lap|  race_time|points|position|        created_date|\n",
      "+---------+--------------------+-------------------+----------------+------------------+-------------+------------------+------------+----+-----------+-----------+------+--------+--------------------+\n",
      "|     2019|Australian Grand ...|2019-03-17 05:10:00|       Melbourne|      Carlos Sainz|           55|           Spanish|     McLaren|  18|          9|         \\N|   0.0|    null|2023-08-17 15:42:...|\n",
      "|     2019|Australian Grand ...|2019-03-17 05:10:00|       Melbourne|  Daniel Ricciardo|            3|        Australian|     Renault|  12|         18|         \\N|   0.0|    null|2023-08-17 15:42:...|\n",
      "|     2019|Australian Grand ...|2019-03-17 05:10:00|       Melbourne|   Romain Grosjean|            8|            French|Haas F1 Team|   6|         17|         \\N|   0.0|    null|2023-08-17 15:42:...|\n",
      "|     2019|Australian Grand ...|2019-03-17 05:10:00|       Melbourne|     Robert Kubica|           88|            Polish|    Williams|  20|         30|         \\N|   0.0|      17|2023-08-17 15:42:...|\n",
      "|     2019|Australian Grand ...|2019-03-17 05:10:00|       Melbourne|    George Russell|           63|           British|    Williams|  19|         55|         \\N|   0.0|      16|2023-08-17 15:42:...|\n",
      "|     2019|Australian Grand ...|2019-03-17 05:10:00|       Melbourne|Antonio Giovinazzi|           99|           Italian|  Alfa Romeo|  14|         29|         \\N|   0.0|      15|2023-08-17 15:42:...|\n",
      "|     2019|Australian Grand ...|2019-03-17 05:10:00|       Melbourne|   Alexander Albon|           23|              Thai|  Toro Rosso|  13|         43|         \\N|   0.0|      14|2023-08-17 15:42:...|\n",
      "|     2019|Australian Grand ...|2019-03-17 05:10:00|       Melbourne|      Sergio Pérez|           11|           Mexican|Racing Point|  10|         41|         \\N|   0.0|      13|2023-08-17 15:42:...|\n",
      "|     2019|Australian Grand ...|2019-03-17 05:10:00|       Melbourne|      Lando Norris|            4|           British|     McLaren|   8|         17|         \\N|   0.0|      12|2023-08-17 15:42:...|\n",
      "|     2019|Australian Grand ...|2019-03-17 05:10:00|       Melbourne|      Pierre Gasly|           10|            French|    Red Bull|  17|         39|         \\N|   0.0|      11|2023-08-17 15:42:...|\n",
      "|     2019|Australian Grand ...|2019-03-17 05:10:00|       Melbourne|      Daniil Kvyat|           26|           Russian|  Toro Rosso|  15|         39|         \\N|   1.0|      10|2023-08-17 15:42:...|\n",
      "|     2019|Australian Grand ...|2019-03-17 05:10:00|       Melbourne|      Lance Stroll|           18|          Canadian|Racing Point|  16|         29|         \\N|   2.0|       9|2023-08-17 15:42:...|\n",
      "|     2019|Australian Grand ...|2019-03-17 05:10:00|       Melbourne|    Kimi Räikkönen|            7|           Finnish|  Alfa Romeo|   9|         52|         \\N|   4.0|       8|2023-08-17 15:42:...|\n",
      "|     2019|Australian Grand ...|2019-03-17 05:10:00|       Melbourne|   Nico Hülkenberg|           27|            German|     Renault|  11|         52|         \\N|   6.0|       7|2023-08-17 15:42:...|\n",
      "|     2019|Australian Grand ...|2019-03-17 05:10:00|       Melbourne|   Kevin Magnussen|           20|            Danish|Haas F1 Team|   7|         56|  +1:27.156|   8.0|       6|2023-08-17 15:42:...|\n",
      "|     2019|Australian Grand ...|2019-03-17 05:10:00|       Melbourne|   Charles Leclerc|           16|        Monegasque|     Ferrari|   5|         58|    +58.203|  10.0|       5|2023-08-17 15:42:...|\n",
      "|     2019|Australian Grand ...|2019-03-17 05:10:00|       Melbourne|  Sebastian Vettel|            5|            German|     Ferrari|   3|         16|    +57.109|  12.0|       4|2023-08-17 15:42:...|\n",
      "|     2019|Australian Grand ...|2019-03-17 05:10:00|       Melbourne|    Max Verstappen|           33|             Dutch|    Red Bull|   4|         57|    +22.520|  15.0|       3|2023-08-17 15:42:...|\n",
      "|     2019|Australian Grand ...|2019-03-17 05:10:00|       Melbourne|    Lewis Hamilton|           44|           British|    Mercedes|   1|         57|    +20.886|  18.0|       2|2023-08-17 15:42:...|\n",
      "|     2019|Australian Grand ...|2019-03-17 05:10:00|       Melbourne|   Valtteri Bottas|           77|           Finnish|    Mercedes|   2|         57|1:25:27.325|  26.0|       1|2023-08-17 15:42:...|\n",
      "+---------+--------------------+-------------------+----------------+------------------+-------------+------------------+------------+----+-----------+-----------+------+--------+--------------------+\n",
      "only showing top 20 rows\n",
      "\n"
     ]
    }
   ],
   "source": [
    "demo_df.show()"
   ]
  },
  {
   "cell_type": "code",
   "execution_count": 17,
   "metadata": {},
   "outputs": [],
   "source": [
    "demo_grouped_df = demo_df\\\n",
    ".groupBy(\"race_year\", \"driver_name\")\\\n",
    ".agg(sum(\"points\").alias(\"total_points\"), countDistinct(\"race_name\").alias(\"number_of_races\"))"
   ]
  },
  {
   "cell_type": "code",
   "execution_count": 18,
   "metadata": {},
   "outputs": [
    {
     "name": "stdout",
     "output_type": "stream",
     "text": [
      "+---------+------------------+------------+---------------+\n",
      "|race_year|       driver_name|total_points|number_of_races|\n",
      "+---------+------------------+------------+---------------+\n",
      "|     2019|      Carlos Sainz|        96.0|             21|\n",
      "|     2019|   Alexander Albon|        92.0|             21|\n",
      "|     2019|    Kimi Räikkönen|        43.0|             21|\n",
      "|     2019|   Charles Leclerc|       264.0|             21|\n",
      "|     2019|    Lewis Hamilton|       413.0|             21|\n",
      "|     2019|   Romain Grosjean|         8.0|             21|\n",
      "|     2019|   Nico Hülkenberg|        37.0|             21|\n",
      "|     2019|      Lance Stroll|        21.0|             21|\n",
      "|     2019|   Kevin Magnussen|        20.0|             21|\n",
      "|     2019|    Max Verstappen|       278.0|             21|\n",
      "|     2019|      Sergio Pérez|        52.0|             21|\n",
      "|     2020|      Lance Stroll|        75.0|             16|\n",
      "|     2020|   Kevin Magnussen|         1.0|             17|\n",
      "|     2020|   Alexander Albon|       105.0|             17|\n",
      "|     2020|Antonio Giovinazzi|         4.0|             17|\n",
      "|     2020|   Charles Leclerc|        98.0|             17|\n",
      "|     2020|    George Russell|         3.0|             17|\n",
      "|     2020|    Lewis Hamilton|       347.0|             16|\n",
      "|     2020|   Romain Grosjean|         2.0|             15|\n",
      "|     2020|   Nico Hülkenberg|        10.0|              3|\n",
      "+---------+------------------+------------+---------------+\n",
      "only showing top 20 rows\n",
      "\n"
     ]
    }
   ],
   "source": [
    "demo_grouped_df.show()"
   ]
  },
  {
   "cell_type": "code",
   "execution_count": 19,
   "metadata": {},
   "outputs": [],
   "source": [
    "driverRankSpec = Window.partitionBy(\"race_year\").orderBy(desc(\"total_points\"))"
   ]
  },
  {
   "cell_type": "code",
   "execution_count": 20,
   "metadata": {},
   "outputs": [
    {
     "name": "stdout",
     "output_type": "stream",
     "text": [
      "+---------+------------------+------------+---------------+----+\n",
      "|race_year|       driver_name|total_points|number_of_races|rank|\n",
      "+---------+------------------+------------+---------------+----+\n",
      "|     2019|    Lewis Hamilton|       413.0|             21|   1|\n",
      "|     2019|   Valtteri Bottas|       326.0|             21|   2|\n",
      "|     2019|    Max Verstappen|       278.0|             21|   3|\n",
      "|     2019|   Charles Leclerc|       264.0|             21|   4|\n",
      "|     2019|  Sebastian Vettel|       240.0|             21|   5|\n",
      "|     2019|      Carlos Sainz|        96.0|             21|   6|\n",
      "|     2019|      Pierre Gasly|        95.0|             21|   7|\n",
      "|     2019|   Alexander Albon|        92.0|             21|   8|\n",
      "|     2019|  Daniel Ricciardo|        54.0|             21|   9|\n",
      "|     2019|      Sergio Pérez|        52.0|             21|  10|\n",
      "|     2019|      Lando Norris|        49.0|             21|  11|\n",
      "|     2019|    Kimi Räikkönen|        43.0|             21|  12|\n",
      "|     2019|   Nico Hülkenberg|        37.0|             21|  13|\n",
      "|     2019|      Daniil Kvyat|        37.0|             21|  13|\n",
      "|     2019|      Lance Stroll|        21.0|             21|  15|\n",
      "|     2019|   Kevin Magnussen|        20.0|             21|  16|\n",
      "|     2019|Antonio Giovinazzi|        14.0|             21|  17|\n",
      "|     2019|   Romain Grosjean|         8.0|             21|  18|\n",
      "|     2019|     Robert Kubica|         1.0|             21|  19|\n",
      "|     2019|    George Russell|         0.0|             21|  20|\n",
      "+---------+------------------+------------+---------------+----+\n",
      "only showing top 20 rows\n",
      "\n"
     ]
    }
   ],
   "source": [
    "demo_grouped_df.withColumn(\"rank\", rank().over(driverRankSpec)).show()"
   ]
  },
  {
   "cell_type": "code",
   "execution_count": 21,
   "metadata": {},
   "outputs": [
    {
     "ename": "AnalysisException",
     "evalue": "Table or view not found: global_temp.gv_race_results; line 1 pos 14;\n'Project [*]\n+- 'UnresolvedRelation [global_temp, gv_race_results], [], false\n",
     "output_type": "error",
     "traceback": [
      "\u001b[0;31m---------------------------------------------------------------------------\u001b[0m",
      "\u001b[0;31mAnalysisException\u001b[0m                         Traceback (most recent call last)",
      "\u001b[0;32m<ipython-input-21-0f42abbfc0bf>\u001b[0m in \u001b[0;36m<module>\u001b[0;34m()\u001b[0m\n\u001b[0;32m----> 1\u001b[0;31m \u001b[0mspark\u001b[0m\u001b[0;34m.\u001b[0m\u001b[0msql\u001b[0m\u001b[0;34m(\u001b[0m\u001b[0;34m\"SELECT * FROM global_temp.gv_race_results\"\u001b[0m\u001b[0;34m)\u001b[0m\u001b[0;34m\u001b[0m\u001b[0;34m\u001b[0m\u001b[0m\n\u001b[0m",
      "\u001b[0;32m/home/sunbeam/.local/lib/python3.6/site-packages/pyspark/sql/session.py\u001b[0m in \u001b[0;36msql\u001b[0;34m(self, sqlQuery)\u001b[0m\n\u001b[1;32m    721\u001b[0m         \u001b[0;34m[\u001b[0m\u001b[0mRow\u001b[0m\u001b[0;34m(\u001b[0m\u001b[0mf1\u001b[0m\u001b[0;34m=\u001b[0m\u001b[0;36m1\u001b[0m\u001b[0;34m,\u001b[0m \u001b[0mf2\u001b[0m\u001b[0;34m=\u001b[0m\u001b[0;34m'row1'\u001b[0m\u001b[0;34m)\u001b[0m\u001b[0;34m,\u001b[0m \u001b[0mRow\u001b[0m\u001b[0;34m(\u001b[0m\u001b[0mf1\u001b[0m\u001b[0;34m=\u001b[0m\u001b[0;36m2\u001b[0m\u001b[0;34m,\u001b[0m \u001b[0mf2\u001b[0m\u001b[0;34m=\u001b[0m\u001b[0;34m'row2'\u001b[0m\u001b[0;34m)\u001b[0m\u001b[0;34m,\u001b[0m \u001b[0mRow\u001b[0m\u001b[0;34m(\u001b[0m\u001b[0mf1\u001b[0m\u001b[0;34m=\u001b[0m\u001b[0;36m3\u001b[0m\u001b[0;34m,\u001b[0m \u001b[0mf2\u001b[0m\u001b[0;34m=\u001b[0m\u001b[0;34m'row3'\u001b[0m\u001b[0;34m)\u001b[0m\u001b[0;34m]\u001b[0m\u001b[0;34m\u001b[0m\u001b[0;34m\u001b[0m\u001b[0m\n\u001b[1;32m    722\u001b[0m         \"\"\"\n\u001b[0;32m--> 723\u001b[0;31m         \u001b[0;32mreturn\u001b[0m \u001b[0mDataFrame\u001b[0m\u001b[0;34m(\u001b[0m\u001b[0mself\u001b[0m\u001b[0;34m.\u001b[0m\u001b[0m_jsparkSession\u001b[0m\u001b[0;34m.\u001b[0m\u001b[0msql\u001b[0m\u001b[0;34m(\u001b[0m\u001b[0msqlQuery\u001b[0m\u001b[0;34m)\u001b[0m\u001b[0;34m,\u001b[0m \u001b[0mself\u001b[0m\u001b[0;34m.\u001b[0m\u001b[0m_wrapped\u001b[0m\u001b[0;34m)\u001b[0m\u001b[0;34m\u001b[0m\u001b[0;34m\u001b[0m\u001b[0m\n\u001b[0m\u001b[1;32m    724\u001b[0m \u001b[0;34m\u001b[0m\u001b[0m\n\u001b[1;32m    725\u001b[0m     \u001b[0;32mdef\u001b[0m \u001b[0mtable\u001b[0m\u001b[0;34m(\u001b[0m\u001b[0mself\u001b[0m\u001b[0;34m,\u001b[0m \u001b[0mtableName\u001b[0m\u001b[0;34m)\u001b[0m\u001b[0;34m:\u001b[0m\u001b[0;34m\u001b[0m\u001b[0;34m\u001b[0m\u001b[0m\n",
      "\u001b[0;32m/home/sunbeam/.local/lib/python3.6/site-packages/py4j/java_gateway.py\u001b[0m in \u001b[0;36m__call__\u001b[0;34m(self, *args)\u001b[0m\n\u001b[1;32m   1320\u001b[0m         \u001b[0manswer\u001b[0m \u001b[0;34m=\u001b[0m \u001b[0mself\u001b[0m\u001b[0;34m.\u001b[0m\u001b[0mgateway_client\u001b[0m\u001b[0;34m.\u001b[0m\u001b[0msend_command\u001b[0m\u001b[0;34m(\u001b[0m\u001b[0mcommand\u001b[0m\u001b[0;34m)\u001b[0m\u001b[0;34m\u001b[0m\u001b[0;34m\u001b[0m\u001b[0m\n\u001b[1;32m   1321\u001b[0m         return_value = get_return_value(\n\u001b[0;32m-> 1322\u001b[0;31m             answer, self.gateway_client, self.target_id, self.name)\n\u001b[0m\u001b[1;32m   1323\u001b[0m \u001b[0;34m\u001b[0m\u001b[0m\n\u001b[1;32m   1324\u001b[0m         \u001b[0;32mfor\u001b[0m \u001b[0mtemp_arg\u001b[0m \u001b[0;32min\u001b[0m \u001b[0mtemp_args\u001b[0m\u001b[0;34m:\u001b[0m\u001b[0;34m\u001b[0m\u001b[0;34m\u001b[0m\u001b[0m\n",
      "\u001b[0;32m/home/sunbeam/.local/lib/python3.6/site-packages/pyspark/sql/utils.py\u001b[0m in \u001b[0;36mdeco\u001b[0;34m(*a, **kw)\u001b[0m\n\u001b[1;32m    115\u001b[0m                 \u001b[0;31m# Hide where the exception came from that shows a non-Pythonic\u001b[0m\u001b[0;34m\u001b[0m\u001b[0;34m\u001b[0m\u001b[0;34m\u001b[0m\u001b[0m\n\u001b[1;32m    116\u001b[0m                 \u001b[0;31m# JVM exception message.\u001b[0m\u001b[0;34m\u001b[0m\u001b[0;34m\u001b[0m\u001b[0;34m\u001b[0m\u001b[0m\n\u001b[0;32m--> 117\u001b[0;31m                 \u001b[0;32mraise\u001b[0m \u001b[0mconverted\u001b[0m \u001b[0;32mfrom\u001b[0m \u001b[0;32mNone\u001b[0m\u001b[0;34m\u001b[0m\u001b[0;34m\u001b[0m\u001b[0m\n\u001b[0m\u001b[1;32m    118\u001b[0m             \u001b[0;32melse\u001b[0m\u001b[0;34m:\u001b[0m\u001b[0;34m\u001b[0m\u001b[0;34m\u001b[0m\u001b[0m\n\u001b[1;32m    119\u001b[0m                 \u001b[0;32mraise\u001b[0m\u001b[0;34m\u001b[0m\u001b[0;34m\u001b[0m\u001b[0m\n",
      "\u001b[0;31mAnalysisException\u001b[0m: Table or view not found: global_temp.gv_race_results; line 1 pos 14;\n'Project [*]\n+- 'UnresolvedRelation [global_temp, gv_race_results], [], false\n"
     ]
    }
   ],
   "source": [
    "spark.sql(\"SELECT * FROM global_temp.gv_race_results\")"
   ]
  },
  {
   "cell_type": "code",
   "execution_count": null,
   "metadata": {},
   "outputs": [],
   "source": []
  }
 ],
 "metadata": {
  "kernelspec": {
   "display_name": "Python 3",
   "language": "python",
   "name": "python3"
  },
  "language_info": {
   "codemirror_mode": {
    "name": "ipython",
    "version": 3
   },
   "file_extension": ".py",
   "mimetype": "text/x-python",
   "name": "python",
   "nbconvert_exporter": "python",
   "pygments_lexer": "ipython3",
   "version": "3.6.9"
  }
 },
 "nbformat": 4,
 "nbformat_minor": 2
}
