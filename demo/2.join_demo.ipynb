{
 "cells": [
  {
   "cell_type": "code",
   "execution_count": 28,
   "metadata": {},
   "outputs": [],
   "source": [
    "#Entrypoint 2.x\n",
    "from pyspark.sql import SparkSession\n",
    "from pyspark.sql.types import *\n",
    "from pyspark.sql.functions import *\n",
    "spark = SparkSession.builder.config(\"spark.sql.shuffle.partitions\", \"2\").appName(\"Analysis\").master(\"local[2]\").getOrCreate()\n",
    "\n",
    "# On yarn:\n",
    "# spark = SparkSession.builder.appName(\"Spark SQL basic example\").enableHiveSupport().master(\"yarn\").getOrCreate()\n",
    "# specify .master(\"yarn\")\n",
    "\n",
    "sc = spark.sparkContext"
   ]
  },
  {
   "cell_type": "code",
   "execution_count": 29,
   "metadata": {},
   "outputs": [],
   "source": [
    "%run \"../includes/configuration\"\n",
    "%run \"../includes/common_functions\""
   ]
  },
  {
   "cell_type": "code",
   "execution_count": 30,
   "metadata": {},
   "outputs": [],
   "source": [
    "circuits_df = spark.read.parquet(f\"{processed_folder_path}/circuits\").withColumnRenamed(\"name\", \"circuit_name\")"
   ]
  },
  {
   "cell_type": "code",
   "execution_count": 31,
   "metadata": {},
   "outputs": [],
   "source": [
    "races_df = spark.read.parquet(f\"{processed_folder_path}/races\").filter(\"race_year = 2019\").withColumnRenamed(\"name\", \"race_name\")"
   ]
  },
  {
   "cell_type": "code",
   "execution_count": 32,
   "metadata": {},
   "outputs": [
    {
     "name": "stdout",
     "output_type": "stream",
     "text": [
      "+-------+-----+----------+--------------------+--------------------+-------------------+---------+\n",
      "|race_id|round|circuit_id|           race_name|      ingestion_date|     race_timestamp|race_year|\n",
      "+-------+-----+----------+--------------------+--------------------+-------------------+---------+\n",
      "|   1010|    1|         1|Australian Grand ...|2023-08-16 18:28:...|2019-03-17 05:10:00|     2019|\n",
      "|   1011|    2|         3|  Bahrain Grand Prix|2023-08-16 18:28:...|2019-03-31 15:10:00|     2019|\n",
      "|   1012|    3|        17|  Chinese Grand Prix|2023-08-16 18:28:...|2019-04-14 06:10:00|     2019|\n",
      "|   1013|    4|        73|Azerbaijan Grand ...|2023-08-16 18:28:...|2019-04-28 12:10:00|     2019|\n",
      "|   1014|    5|         4|  Spanish Grand Prix|2023-08-16 18:28:...|2019-05-12 13:10:00|     2019|\n",
      "+-------+-----+----------+--------------------+--------------------+-------------------+---------+\n",
      "only showing top 5 rows\n",
      "\n"
     ]
    }
   ],
   "source": [
    "races_df.show(5)"
   ]
  },
  {
   "cell_type": "code",
   "execution_count": 33,
   "metadata": {},
   "outputs": [],
   "source": [
    "race_circuits_df = circuits_df.join(races_df, circuits_df.circuit_id == races_df.circuit_id, \"inner\")\\\n",
    ".select(circuits_df.circuit_name, circuits_df.location, circuits_df.country, races_df.race_name, races_df.round)"
   ]
  },
  {
   "cell_type": "code",
   "execution_count": 34,
   "metadata": {},
   "outputs": [
    {
     "name": "stdout",
     "output_type": "stream",
     "text": [
      "+--------------------+------------+----------+--------------------+-----+\n",
      "|        circuit_name|    location|   country|           race_name|round|\n",
      "+--------------------+------------+----------+--------------------+-----+\n",
      "|Albert Park Grand...|   Melbourne| Australia|Australian Grand ...|    1|\n",
      "|Bahrain Internati...|      Sakhir|   Bahrain|  Bahrain Grand Prix|    2|\n",
      "|Shanghai Internat...|    Shanghai|     China|  Chinese Grand Prix|    3|\n",
      "|   Baku City Circuit|        Baku|Azerbaijan|Azerbaijan Grand ...|    4|\n",
      "|Circuit de Barcel...|    Montmeló|     Spain|  Spanish Grand Prix|    5|\n",
      "|   Circuit de Monaco| Monte-Carlo|    Monaco|   Monaco Grand Prix|    6|\n",
      "|Circuit Gilles Vi...|    Montreal|    Canada| Canadian Grand Prix|    7|\n",
      "| Circuit Paul Ricard|Le Castellet|    France|   French Grand Prix|    8|\n",
      "|       Red Bull Ring|   Spielburg|   Austria| Austrian Grand Prix|    9|\n",
      "| Silverstone Circuit| Silverstone|        UK|  British Grand Prix|   10|\n",
      "|      Hockenheimring|  Hockenheim|   Germany|   German Grand Prix|   11|\n",
      "|         Hungaroring|    Budapest|   Hungary|Hungarian Grand Prix|   12|\n",
      "|Circuit de Spa-Fr...|         Spa|   Belgium|  Belgian Grand Prix|   13|\n",
      "|Autodromo Naziona...|       Monza|     Italy|  Italian Grand Prix|   14|\n",
      "|Marina Bay Street...|  Marina Bay| Singapore|Singapore Grand Prix|   15|\n",
      "|      Sochi Autodrom|       Sochi|    Russia|  Russian Grand Prix|   16|\n",
      "|      Suzuka Circuit|      Suzuka|     Japan| Japanese Grand Prix|   17|\n",
      "|Autódromo Hermano...| Mexico City|    Mexico|  Mexican Grand Prix|   18|\n",
      "|Circuit of the Am...|      Austin|       USA|United States Gra...|   19|\n",
      "|Autódromo José Ca...|   São Paulo|    Brazil|Brazilian Grand Prix|   20|\n",
      "+--------------------+------------+----------+--------------------+-----+\n",
      "only showing top 20 rows\n",
      "\n"
     ]
    }
   ],
   "source": [
    "race_circuits_df.show()"
   ]
  },
  {
   "cell_type": "code",
   "execution_count": null,
   "metadata": {},
   "outputs": [],
   "source": []
  }
 ],
 "metadata": {
  "kernelspec": {
   "display_name": "Python 3",
   "language": "python",
   "name": "python3"
  },
  "language_info": {
   "codemirror_mode": {
    "name": "ipython",
    "version": 3
   },
   "file_extension": ".py",
   "mimetype": "text/x-python",
   "name": "python",
   "nbconvert_exporter": "python",
   "pygments_lexer": "ipython3",
   "version": "3.6.9"
  }
 },
 "nbformat": 4,
 "nbformat_minor": 2
}
