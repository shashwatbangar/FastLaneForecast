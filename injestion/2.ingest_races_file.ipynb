{
 "cells": [
  {
   "cell_type": "markdown",
   "metadata": {},
   "source": [
    "## Create sparl context"
   ]
  },
  {
   "cell_type": "code",
   "execution_count": 1,
   "metadata": {},
   "outputs": [
    {
     "name": "stderr",
     "output_type": "stream",
     "text": [
      "/home/sunbeam/.local/lib/python3.6/site-packages/pyspark/context.py:238: FutureWarning: Python 3.6 support is deprecated in Spark 3.2.\n",
      "  FutureWarning\n"
     ]
    }
   ],
   "source": [
    "#Entrypoint 2.x\n",
    "from pyspark.sql import SparkSession\n",
    "from pyspark.sql.types import *\n",
    "from pyspark.sql.functions import *\n",
    "spark = SparkSession.builder.config(\"spark.sql.shuffle.partitions\", \"2\").appName(\"Analysis\").master(\"local[2]\").getOrCreate()\n",
    "\n",
    "# On yarn:\n",
    "# spark = SparkSession.builder.appName(\"Spark SQL basic example\").enableHiveSupport().master(\"yarn\").getOrCreate()\n",
    "# specify .master(\"yarn\")\n",
    "\n",
    "sc = spark.sparkContext"
   ]
  },
  {
   "cell_type": "code",
   "execution_count": 2,
   "metadata": {},
   "outputs": [],
   "source": [
    "%run \"../includes/configuration\"\n",
    "%run \"../includes/common_functions\""
   ]
  },
  {
   "cell_type": "markdown",
   "metadata": {},
   "source": [
    "## Define schema"
   ]
  },
  {
   "cell_type": "code",
   "execution_count": 3,
   "metadata": {},
   "outputs": [],
   "source": [
    "races_schema = StructType(fields=[\n",
    "    StructField(\"raceId\", IntegerType(), False),\n",
    "    StructField(\"year\", IntegerType(), True),\n",
    "    StructField(\"round\", IntegerType(), True),\n",
    "    StructField(\"circuitId\", IntegerType(), True),\n",
    "    StructField(\"name\", StringType(), True),\n",
    "    StructField(\"date\", DateType(), True),\n",
    "    StructField(\"time\", StringType(), True),\n",
    "    StructField(\"url\", StringType(), True),\n",
    "])"
   ]
  },
  {
   "cell_type": "markdown",
   "metadata": {},
   "source": [
    "## Read the CSV file from HDFS & apply schema"
   ]
  },
  {
   "cell_type": "code",
   "execution_count": 4,
   "metadata": {},
   "outputs": [],
   "source": [
    "races_df = spark.read.option(\"header\", True).schema(races_schema).csv(f\"{raw_folder_path}/races.csv\")"
   ]
  },
  {
   "cell_type": "markdown",
   "metadata": {},
   "source": [
    "## Add ingestion date & race_timestamp to the dataframe"
   ]
  },
  {
   "cell_type": "code",
   "execution_count": 5,
   "metadata": {},
   "outputs": [],
   "source": [
    "races_with_timestamp_df = races_df.withColumn(\"ingestion_date\", current_timestamp())\\\n",
    ".withColumn(\"race_timestamp\", to_timestamp(concat(col('date'), lit(' '), col('time')), 'yyyy-MM-dd HH:mm:ss'))"
   ]
  },
  {
   "cell_type": "code",
   "execution_count": 6,
   "metadata": {},
   "outputs": [
    {
     "name": "stdout",
     "output_type": "stream",
     "text": [
      "+------+----+-----+---------+--------------------+----------+--------+--------------------+--------------------+-------------------+\n",
      "|raceId|year|round|circuitId|                name|      date|    time|                 url|      ingestion_date|     race_timestamp|\n",
      "+------+----+-----+---------+--------------------+----------+--------+--------------------+--------------------+-------------------+\n",
      "|     1|2009|    1|        1|Australian Grand ...|2009-03-29|06:00:00|http://en.wikiped...|2023-08-19 21:43:...|2009-03-29 06:00:00|\n",
      "|     2|2009|    2|        2|Malaysian Grand Prix|2009-04-05|09:00:00|http://en.wikiped...|2023-08-19 21:43:...|2009-04-05 09:00:00|\n",
      "|     3|2009|    3|       17|  Chinese Grand Prix|2009-04-19|07:00:00|http://en.wikiped...|2023-08-19 21:43:...|2009-04-19 07:00:00|\n",
      "|     4|2009|    4|        3|  Bahrain Grand Prix|2009-04-26|12:00:00|http://en.wikiped...|2023-08-19 21:43:...|2009-04-26 12:00:00|\n",
      "|     5|2009|    5|        4|  Spanish Grand Prix|2009-05-10|12:00:00|http://en.wikiped...|2023-08-19 21:43:...|2009-05-10 12:00:00|\n",
      "+------+----+-----+---------+--------------------+----------+--------+--------------------+--------------------+-------------------+\n",
      "only showing top 5 rows\n",
      "\n"
     ]
    }
   ],
   "source": [
    "races_with_timestamp_df.show(5)"
   ]
  },
  {
   "cell_type": "code",
   "execution_count": 7,
   "metadata": {},
   "outputs": [],
   "source": [
    "races_selected_df = races_with_timestamp_df.select(col(\"raceId\").alias('race_id'), col(\"year\").alias('race_year'), col(\"round\"), col('circuitId').alias('circuit_id'), col(\"name\"), col(\"ingestion_date\"), col(\"race_timestamp\"))"
   ]
  },
  {
   "cell_type": "markdown",
   "metadata": {},
   "source": [
    "## Select only columns required & rename as required"
   ]
  },
  {
   "cell_type": "code",
   "execution_count": 8,
   "metadata": {},
   "outputs": [
    {
     "name": "stdout",
     "output_type": "stream",
     "text": [
      "+-------+---------+-----+----------+--------------------+--------------------+-------------------+\n",
      "|race_id|race_year|round|circuit_id|                name|      ingestion_date|     race_timestamp|\n",
      "+-------+---------+-----+----------+--------------------+--------------------+-------------------+\n",
      "|      1|     2009|    1|         1|Australian Grand ...|2023-08-19 21:43:...|2009-03-29 06:00:00|\n",
      "|      2|     2009|    2|         2|Malaysian Grand Prix|2023-08-19 21:43:...|2009-04-05 09:00:00|\n",
      "|      3|     2009|    3|        17|  Chinese Grand Prix|2023-08-19 21:43:...|2009-04-19 07:00:00|\n",
      "|      4|     2009|    4|         3|  Bahrain Grand Prix|2023-08-19 21:43:...|2009-04-26 12:00:00|\n",
      "|      5|     2009|    5|         4|  Spanish Grand Prix|2023-08-19 21:43:...|2009-05-10 12:00:00|\n",
      "+-------+---------+-----+----------+--------------------+--------------------+-------------------+\n",
      "only showing top 5 rows\n",
      "\n"
     ]
    }
   ],
   "source": [
    "races_selected_df.show(5)"
   ]
  },
  {
   "cell_type": "markdown",
   "metadata": {},
   "source": [
    "## Write the output to processed container in parquet container"
   ]
  },
  {
   "cell_type": "code",
   "execution_count": 10,
   "metadata": {},
   "outputs": [],
   "source": [
    "races_selected_df.write.mode('overwrite').partitionBy('race_year').parquet(f\"{processed_folder_path}/races\")"
   ]
  },
  {
   "cell_type": "code",
   "execution_count": 12,
   "metadata": {},
   "outputs": [],
   "source": [
    "races_selected_df.write.csv(\"/home/sunbeam/Desktop/FastLaneForecast/combinedCsv/races\", header=True)"
   ]
  },
  {
   "cell_type": "code",
   "execution_count": null,
   "metadata": {},
   "outputs": [],
   "source": []
  }
 ],
 "metadata": {
  "kernelspec": {
   "display_name": "Python 3",
   "language": "python",
   "name": "python3"
  },
  "language_info": {
   "codemirror_mode": {
    "name": "ipython",
    "version": 3
   },
   "file_extension": ".py",
   "mimetype": "text/x-python",
   "name": "python",
   "nbconvert_exporter": "python",
   "pygments_lexer": "ipython3",
   "version": "3.6.9"
  }
 },
 "nbformat": 4,
 "nbformat_minor": 2
}
