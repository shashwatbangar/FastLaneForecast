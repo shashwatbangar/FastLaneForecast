{
 "cells": [
  {
   "cell_type": "code",
   "execution_count": 1,
   "metadata": {},
   "outputs": [
    {
     "name": "stderr",
     "output_type": "stream",
     "text": [
      "/home/sunbeam/.local/lib/python3.6/site-packages/pyspark/context.py:238: FutureWarning: Python 3.6 support is deprecated in Spark 3.2.\n",
      "  FutureWarning\n"
     ]
    }
   ],
   "source": [
    "#Entrypoint 2.x\n",
    "from pyspark.sql import SparkSession\n",
    "from pyspark.sql.types import *\n",
    "from pyspark.sql.functions import *\n",
    "spark = SparkSession.builder.config(\"spark.sql.shuffle.partitions\", \"2\").appName(\"Analysis\").master(\"local[2]\").getOrCreate()\n",
    "\n",
    "# On yarn:\n",
    "# spark = SparkSession.builder.appName(\"Spark SQL basic example\").enableHiveSupport().master(\"yarn\").getOrCreate()\n",
    "# specify .master(\"yarn\")\n",
    "\n",
    "sc = spark.sparkContext"
   ]
  },
  {
   "cell_type": "code",
   "execution_count": 2,
   "metadata": {},
   "outputs": [],
   "source": [
    "%run \"../includes/configuration\""
   ]
  },
  {
   "cell_type": "code",
   "execution_count": 10,
   "metadata": {},
   "outputs": [],
   "source": [
    "circuits_df = spark.read.parquet(f\"{processed_folder_path}/circuits\")\n",
    "races_df = spark.read.parquet(f\"{processed_folder_path}/races\")\n",
    "constructors_df = spark.read.parquet(f\"{processed_folder_path}/constructors\")\n",
    "drivers_df = spark.read.parquet(f\"{processed_folder_path}/drivers\")\n",
    "results_df = spark.read.parquet(f\"{processed_folder_path}/results\")\n",
    "pit_stops_df = spark.read.parquet(f\"{processed_folder_path}/pit_stops\")\n",
    "lap_times_df = spark.read.parquet(f\"{processed_folder_path}/lap_times\")\n",
    "qualifying_df = spark.read.parquet(f\"{processed_folder_path}/qualifying\")"
   ]
  },
  {
   "cell_type": "code",
   "execution_count": null,
   "metadata": {},
   "outputs": [],
   "source": []
  },
  {
   "cell_type": "code",
   "execution_count": 12,
   "metadata": {},
   "outputs": [],
   "source": [
    "circuits_df.write.csv(\"/home/sunbeam/Desktop/FastLaneForecast/filtered_csv/circuits\", header=True)\n",
    "races_df.write.csv(\"/home/sunbeam/Desktop/FastLaneForecast/filtered_csv/races\", header=True)\n",
    "constructors_df.write.csv(\"/home/sunbeam/Desktop/FastLaneForecast/filtered_csv/constructors\", header=True)\n",
    "drivers_df.write.csv(\"/home/sunbeam/Desktop/FastLaneForecast/filtered_csv/drivers\", header=True)\n",
    "results_df.write.csv(\"/home/sunbeam/Desktop/FastLaneForecast/filtered_csv/results\", header=True)\n",
    "pit_stops_df.write.csv(\"/home/sunbeam/Desktop/FastLaneForecast/filtered_csv/pit_stops\", header=True)\n",
    "lap_times_df.write.csv(\"/home/sunbeam/Desktop/FastLaneForecast/filtered_csv/lap_times\", header=True)\n",
    "qualifying_df.write.csv(\"/home/sunbeam/Desktop/FastLaneForecast/filtered_csv/qualifying\", header=True)"
   ]
  },
  {
   "cell_type": "code",
   "execution_count": null,
   "metadata": {},
   "outputs": [],
   "source": []
  }
 ],
 "metadata": {
  "kernelspec": {
   "display_name": "Python 3",
   "language": "python",
   "name": "python3"
  },
  "language_info": {
   "codemirror_mode": {
    "name": "ipython",
    "version": 3
   },
   "file_extension": ".py",
   "mimetype": "text/x-python",
   "name": "python",
   "nbconvert_exporter": "python",
   "pygments_lexer": "ipython3",
   "version": "3.6.9"
  }
 },
 "nbformat": 4,
 "nbformat_minor": 5
}
