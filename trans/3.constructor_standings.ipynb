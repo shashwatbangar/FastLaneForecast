{
 "cells": [
  {
   "cell_type": "markdown",
   "metadata": {},
   "source": [
    "## Create spark context"
   ]
  },
  {
   "cell_type": "code",
   "execution_count": 12,
   "metadata": {},
   "outputs": [],
   "source": [
    "#Entrypoint 2.x\n",
    "from pyspark.sql import SparkSession\n",
    "from pyspark.sql.types import *\n",
    "from pyspark.sql.functions import *\n",
    "from pyspark.sql.window import Window\n",
    "spark = SparkSession.builder.config(\"spark.sql.shuffle.partitions\", \"2\").appName(\"Analysis\").master(\"local[2]\").getOrCreate()\n",
    "\n",
    "# On yarn:\n",
    "# spark = SparkSession.builder.appName(\"Spark SQL basic example\").enableHiveSupport().master(\"yarn\").getOrCreate()\n",
    "# specify .master(\"yarn\")\n",
    "\n",
    "sc = spark.sparkContext"
   ]
  },
  {
   "cell_type": "code",
   "execution_count": 13,
   "metadata": {},
   "outputs": [],
   "source": [
    "%run \"../includes/configuration\""
   ]
  },
  {
   "cell_type": "markdown",
   "metadata": {},
   "source": [
    "## Read the data required"
   ]
  },
  {
   "cell_type": "code",
   "execution_count": 14,
   "metadata": {},
   "outputs": [],
   "source": [
    "race_results_df = spark.read.parquet(f\"{presentation_folder_path}/race_results\") "
   ]
  },
  {
   "cell_type": "code",
   "execution_count": 15,
   "metadata": {},
   "outputs": [
    {
     "name": "stdout",
     "output_type": "stream",
     "text": [
      "+---------+--------------------+-------------------+----------------+---------------+-------------+------------------+------------+----+-----------+---------+------+--------+--------------------+\n",
      "|race_year|           race_name|          race_date|circuit_location|    driver_name|driver_number|driver_nationality|        team|grid|fastest_lap|race_time|points|position|        created_date|\n",
      "+---------+--------------------+-------------------+----------------+---------------+-------------+------------------+------------+----+-----------+---------+------+--------+--------------------+\n",
      "|     2018|Australian Grand ...|2018-03-25 05:10:00|       Melbourne|Sergey Sirotkin|           35|           Russian|    Williams|  19|          3|       \\N|   0.0|    null|2023-08-17 15:42:...|\n",
      "|     2018|Australian Grand ...|2018-03-25 05:10:00|       Melbourne|Marcus Ericsson|            9|           Swedish|      Sauber|  17|          4|       \\N|   0.0|    null|2023-08-17 15:42:...|\n",
      "|     2018|Australian Grand ...|2018-03-25 05:10:00|       Melbourne|   Pierre Gasly|           10|            French|  Toro Rosso|  20|         13|       \\N|   0.0|    null|2023-08-17 15:42:...|\n",
      "|     2018|Australian Grand ...|2018-03-25 05:10:00|       Melbourne|Kevin Magnussen|           20|            Danish|Haas F1 Team|   5|         21|       \\N|   0.0|    null|2023-08-17 15:42:...|\n",
      "|     2018|Australian Grand ...|2018-03-25 05:10:00|       Melbourne|Romain Grosjean|            8|            French|Haas F1 Team|   6|         23|       \\N|   0.0|    null|2023-08-17 15:42:...|\n",
      "+---------+--------------------+-------------------+----------------+---------------+-------------+------------------+------------+----+-----------+---------+------+--------+--------------------+\n",
      "only showing top 5 rows\n",
      "\n"
     ]
    }
   ],
   "source": [
    "race_results_df.show(5)"
   ]
  },
  {
   "cell_type": "code",
   "execution_count": 16,
   "metadata": {},
   "outputs": [],
   "source": [
    "constructor_standings_df = race_results_df\\\n",
    ".groupBy(\"race_year\", \"team\")\\\n",
    ".agg(sum(\"points\").alias(\"total_points\"), count(when(col(\"position\") == 1, True)).alias(\"wins\"))"
   ]
  },
  {
   "cell_type": "code",
   "execution_count": 17,
   "metadata": {},
   "outputs": [
    {
     "name": "stdout",
     "output_type": "stream",
     "text": [
      "+---------+------------+------------+----+\n",
      "|race_year|        team|total_points|wins|\n",
      "+---------+------------+------------+----+\n",
      "|     2020|     Ferrari|       131.0|   0|\n",
      "|     2020|     McLaren|       202.0|   0|\n",
      "|     2020|    Red Bull|       319.0|   2|\n",
      "|     2020|     Renault|       181.0|   0|\n",
      "|     2020|Racing Point|       210.0|   1|\n",
      "|     2020|Haas F1 Team|         3.0|   0|\n",
      "|     2020|    Williams|         0.0|   0|\n",
      "|     2020|  Alfa Romeo|         8.0|   0|\n",
      "|     2020|  AlphaTauri|       107.0|   1|\n",
      "|     2020|    Mercedes|       573.0|  13|\n",
      "+---------+------------+------------+----+\n",
      "\n"
     ]
    }
   ],
   "source": [
    "constructor_standings_df.filter(\"race_year == 2020\").show()"
   ]
  },
  {
   "cell_type": "code",
   "execution_count": 18,
   "metadata": {},
   "outputs": [],
   "source": [
    "constructor_rank_spec = Window.partitionBy(\"race_year\").orderBy(desc(\"total_points\"), desc(\"wins\"))\n",
    "final_df = constructor_standings_df.withColumn(\"rank\", rank().over(constructor_rank_spec))"
   ]
  },
  {
   "cell_type": "code",
   "execution_count": 19,
   "metadata": {
    "scrolled": true
   },
   "outputs": [
    {
     "name": "stdout",
     "output_type": "stream",
     "text": [
      "+---------+------------+------------+----+----+\n",
      "|race_year|        team|total_points|wins|rank|\n",
      "+---------+------------+------------+----+----+\n",
      "|     2020|    Mercedes|       573.0|  13|   1|\n",
      "|     2020|    Red Bull|       319.0|   2|   2|\n",
      "|     2020|Racing Point|       210.0|   1|   3|\n",
      "|     2020|     McLaren|       202.0|   0|   4|\n",
      "|     2020|     Renault|       181.0|   0|   5|\n",
      "|     2020|     Ferrari|       131.0|   0|   6|\n",
      "|     2020|  AlphaTauri|       107.0|   1|   7|\n",
      "|     2020|  Alfa Romeo|         8.0|   0|   8|\n",
      "|     2020|Haas F1 Team|         3.0|   0|   9|\n",
      "|     2020|    Williams|         0.0|   0|  10|\n",
      "+---------+------------+------------+----+----+\n",
      "\n"
     ]
    }
   ],
   "source": [
    "final_df.filter(\"race_year == 2020\").show()"
   ]
  },
  {
   "cell_type": "code",
   "execution_count": 20,
   "metadata": {},
   "outputs": [],
   "source": [
    "final_df.write.mode(\"overwrite\").parquet(f\"{presentation_folder_path}/constructor_standings\")"
   ]
  }
 ],
 "metadata": {
  "kernelspec": {
   "display_name": "Python 3",
   "language": "python",
   "name": "python3"
  },
  "language_info": {
   "codemirror_mode": {
    "name": "ipython",
    "version": 3
   },
   "file_extension": ".py",
   "mimetype": "text/x-python",
   "name": "python",
   "nbconvert_exporter": "python",
   "pygments_lexer": "ipython3",
   "version": "3.6.9"
  }
 },
 "nbformat": 4,
 "nbformat_minor": 2
}
