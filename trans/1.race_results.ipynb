{
 "cells": [
  {
   "cell_type": "markdown",
   "metadata": {},
   "source": [
    "## Create spark context"
   ]
  },
  {
   "cell_type": "code",
   "execution_count": 1,
   "metadata": {},
   "outputs": [
    {
     "name": "stderr",
     "output_type": "stream",
     "text": [
      "/home/sunbeam/.local/lib/python3.6/site-packages/pyspark/context.py:238: FutureWarning: Python 3.6 support is deprecated in Spark 3.2.\n",
      "  FutureWarning\n"
     ]
    }
   ],
   "source": [
    "#Entrypoint 2.x\n",
    "from pyspark.sql import SparkSession\n",
    "from pyspark.sql.types import *\n",
    "from pyspark.sql.functions import *\n",
    "spark = SparkSession.builder.config(\"spark.sql.shuffle.partitions\", \"2\").appName(\"Analysis\").master(\"local[2]\").getOrCreate()\n",
    "\n",
    "# On yarn:\n",
    "# spark = SparkSession.builder.appName(\"Spark SQL basic example\").enableHiveSupport().master(\"yarn\").getOrCreate()\n",
    "# specify .master(\"yarn\")\n",
    "\n",
    "sc = spark.sparkContext"
   ]
  },
  {
   "cell_type": "code",
   "execution_count": 2,
   "metadata": {},
   "outputs": [],
   "source": [
    "%run \"../includes/configuration\""
   ]
  },
  {
   "cell_type": "markdown",
   "metadata": {},
   "source": [
    "## Read all the data required"
   ]
  },
  {
   "cell_type": "code",
   "execution_count": 3,
   "metadata": {},
   "outputs": [],
   "source": [
    "# Renaming columns so there will be less ambiguity because of similar names\n",
    "drivers_df = spark.read.parquet(f\"{processed_folder_path}/drivers\").withColumnRenamed(\"number\", \"driver_number\")\\\n",
    ".withColumnRenamed(\"name\", \"driver_name\").withColumnRenamed(\"nationality\", \"driver_nationality\")\n",
    "\n",
    "constructors_df = spark.read.parquet(f\"{processed_folder_path}/constructors\").withColumnRenamed(\"name\", \"team\")\n",
    "\n",
    "circuits_df = spark.read.parquet(f\"{processed_folder_path}/circuits\").withColumnRenamed(\"location\", \"circuit_location\")\n",
    "\n",
    "races_df = spark.read.parquet(f\"{processed_folder_path}/races\").withColumnRenamed(\"name\", \"race_name\")\\\n",
    ".withColumnRenamed(\"race_timestamp\", \"race_date\")\n",
    "\n",
    "results_df = spark.read.parquet(f\"{processed_folder_path}/results\").withColumnRenamed(\"time\", \"race_time\")"
   ]
  },
  {
   "cell_type": "markdown",
   "metadata": {},
   "source": [
    "## Join circuits to races"
   ]
  },
  {
   "cell_type": "code",
   "execution_count": 4,
   "metadata": {},
   "outputs": [],
   "source": [
    "race_circuits_df = races_df.join(circuits_df, races_df.circuit_id == circuits_df.circuit_id, \"inner\")\\\n",
    ".select(races_df.race_id, races_df.race_year, races_df.race_name, races_df.race_date, circuits_df.circuit_location)"
   ]
  },
  {
   "cell_type": "code",
   "execution_count": 5,
   "metadata": {},
   "outputs": [
    {
     "name": "stdout",
     "output_type": "stream",
     "text": [
      "+-------+---------+--------------------+-------------------+----------------+\n",
      "|race_id|race_year|           race_name|          race_date|circuit_location|\n",
      "+-------+---------+--------------------+-------------------+----------------+\n",
      "|   1053|     2021|Emilia Romagna Gr...|2021-04-18 13:00:00|           Imola|\n",
      "|   1052|     2021|  Bahrain Grand Prix|2021-03-28 15:00:00|          Sakhir|\n",
      "|   1051|     2021|Australian Grand ...|2021-11-21 06:00:00|       Melbourne|\n",
      "|   1054|     2021|                 TBC|               null|         Nürburg|\n",
      "|   1055|     2021|  Spanish Grand Prix|2021-05-09 13:00:00|        Montmeló|\n",
      "+-------+---------+--------------------+-------------------+----------------+\n",
      "only showing top 5 rows\n",
      "\n"
     ]
    }
   ],
   "source": [
    "race_circuits_df.show(5)"
   ]
  },
  {
   "cell_type": "code",
   "execution_count": 6,
   "metadata": {},
   "outputs": [],
   "source": [
    "## Join results to all other dataframes"
   ]
  },
  {
   "cell_type": "code",
   "execution_count": 7,
   "metadata": {},
   "outputs": [],
   "source": [
    "race_results_df = results_df.join(race_circuits_df, results_df.race_id == race_circuits_df.race_id)\\\n",
    ".join(drivers_df, results_df.driver_id == drivers_df.driver_id)\\\n",
    ".join(constructors_df, results_df.constructor_id == constructors_df.constructor_id)"
   ]
  },
  {
   "cell_type": "code",
   "execution_count": 8,
   "metadata": {},
   "outputs": [
    {
     "data": {
      "text/plain": [
       "['result_id',\n",
       " 'race_id',\n",
       " 'driver_id',\n",
       " 'constructor_id',\n",
       " 'number',\n",
       " 'grid',\n",
       " 'position',\n",
       " 'position_text',\n",
       " 'position_order',\n",
       " 'points',\n",
       " 'laps',\n",
       " 'race_time',\n",
       " 'milliseconds',\n",
       " 'fastest_lap',\n",
       " 'rank',\n",
       " 'fastest_lap_time',\n",
       " 'fastest_lap_speed',\n",
       " 'ingestion_date',\n",
       " 'race_id',\n",
       " 'race_year',\n",
       " 'race_name',\n",
       " 'race_date',\n",
       " 'circuit_location',\n",
       " 'driver_id',\n",
       " 'driver_ref',\n",
       " 'driver_number',\n",
       " 'code',\n",
       " 'driver_name',\n",
       " 'dob',\n",
       " 'driver_nationality',\n",
       " 'ingestion_date',\n",
       " 'constructor_id',\n",
       " 'constructor_ref',\n",
       " 'team',\n",
       " 'nationality',\n",
       " 'ingestion_date']"
      ]
     },
     "execution_count": 8,
     "metadata": {},
     "output_type": "execute_result"
    }
   ],
   "source": [
    "# Check if there are repeated columns\n",
    "race_results_df.columns"
   ]
  },
  {
   "cell_type": "code",
   "execution_count": 9,
   "metadata": {},
   "outputs": [],
   "source": [
    "final_df = race_results_df.select(\"race_year\", \"race_name\", \"race_date\", \"circuit_location\", \"driver_name\", \"driver_number\", \"driver_nationality\", \"team\", \"grid\", \"fastest_lap\", \"race_time\", \"points\", \"position\")\\\n",
    ".withColumn(\"created_date\", current_timestamp())"
   ]
  },
  {
   "cell_type": "code",
   "execution_count": 18,
   "metadata": {},
   "outputs": [
    {
     "data": {
      "text/plain": [
       "['race_year',\n",
       " 'race_name',\n",
       " 'race_date',\n",
       " 'circuit_location',\n",
       " 'driver_name',\n",
       " 'driver_number',\n",
       " 'driver_nationality',\n",
       " 'team',\n",
       " 'grid',\n",
       " 'fastest_lap',\n",
       " 'race_time',\n",
       " 'points',\n",
       " 'position',\n",
       " 'created_date']"
      ]
     },
     "execution_count": 18,
     "metadata": {},
     "output_type": "execute_result"
    }
   ],
   "source": [
    "final_df.columns"
   ]
  },
  {
   "cell_type": "code",
   "execution_count": 10,
   "metadata": {},
   "outputs": [
    {
     "name": "stdout",
     "output_type": "stream",
     "text": [
      "+---------+--------------------+-------------------+----------------+---------------+-------------+------------------+--------+----+-----------+-----------+------+--------+--------------------+\n",
      "|race_year|           race_name|          race_date|circuit_location|    driver_name|driver_number|driver_nationality|    team|grid|fastest_lap|  race_time|points|position|        created_date|\n",
      "+---------+--------------------+-------------------+----------------+---------------+-------------+------------------+--------+----+-----------+-----------+------+--------+--------------------+\n",
      "|     2020|Abu Dhabi Grand Prix|2020-12-13 13:10:00|       Abu Dhabi| Max Verstappen|           33|             Dutch|Red Bull|   1|         14|1:36:28.645|  25.0|       1|2023-08-20 17:41:...|\n",
      "|     2020|Abu Dhabi Grand Prix|2020-12-13 13:10:00|       Abu Dhabi|Valtteri Bottas|           77|           Finnish|Mercedes|   2|         40|    +15.976|  18.0|       2|2023-08-20 17:41:...|\n",
      "|     2020|Abu Dhabi Grand Prix|2020-12-13 13:10:00|       Abu Dhabi| Lewis Hamilton|           44|           British|Mercedes|   3|         37|    +18.415|  15.0|       3|2023-08-20 17:41:...|\n",
      "|     2020|Abu Dhabi Grand Prix|2020-12-13 13:10:00|       Abu Dhabi|Alexander Albon|           23|              Thai|Red Bull|   5|         42|    +19.987|  12.0|       4|2023-08-20 17:41:...|\n",
      "|     2020|Abu Dhabi Grand Prix|2020-12-13 13:10:00|       Abu Dhabi|   Lando Norris|            4|           British| McLaren|   4|         53|  +1:00.729|  10.0|       5|2023-08-20 17:41:...|\n",
      "+---------+--------------------+-------------------+----------------+---------------+-------------+------------------+--------+----+-----------+-----------+------+--------+--------------------+\n",
      "only showing top 5 rows\n",
      "\n"
     ]
    }
   ],
   "source": [
    "final_df.filter(\"race_year == 2020 and race_name == 'Abu Dhabi Grand Prix'\").orderBy(final_df.points.desc()).show(5)"
   ]
  },
  {
   "cell_type": "code",
   "execution_count": 11,
   "metadata": {},
   "outputs": [],
   "source": [
    "final_df.write.mode(\"overwrite\").parquet(f\"{presentation_folder_path}/race_results\")"
   ]
  }
 ],
 "metadata": {
  "kernelspec": {
   "display_name": "Python 3",
   "language": "python",
   "name": "python3"
  },
  "language_info": {
   "codemirror_mode": {
    "name": "ipython",
    "version": 3
   },
   "file_extension": ".py",
   "mimetype": "text/x-python",
   "name": "python",
   "nbconvert_exporter": "python",
   "pygments_lexer": "ipython3",
   "version": "3.6.9"
  }
 },
 "nbformat": 4,
 "nbformat_minor": 2
}
