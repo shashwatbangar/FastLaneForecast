{
 "cells": [
  {
   "cell_type": "markdown",
   "metadata": {},
   "source": [
    "## Create spark context"
   ]
  },
  {
   "cell_type": "code",
   "execution_count": 1,
   "metadata": {},
   "outputs": [
    {
     "name": "stderr",
     "output_type": "stream",
     "text": [
      "/home/sunbeam/.local/lib/python3.6/site-packages/pyspark/context.py:238: FutureWarning: Python 3.6 support is deprecated in Spark 3.2.\n",
      "  FutureWarning\n"
     ]
    }
   ],
   "source": [
    "#Entrypoint 2.x\n",
    "from pyspark.sql import SparkSession\n",
    "from pyspark.sql.types import *\n",
    "from pyspark.sql.functions import *\n",
    "spark = SparkSession.builder.config(\"spark.sql.shuffle.partitions\", \"2\").appName(\"Analysis\").master(\"local[2]\").getOrCreate()\n",
    "\n",
    "# On yarn:\n",
    "# spark = SparkSession.builder.appName(\"Spark SQL basic example\").enableHiveSupport().master(\"yarn\").getOrCreate()\n",
    "# specify .master(\"yarn\")\n",
    "\n",
    "sc = spark.sparkContext"
   ]
  },
  {
   "cell_type": "code",
   "execution_count": 2,
   "metadata": {},
   "outputs": [],
   "source": [
    "%run \"../includes/configuration\""
   ]
  },
  {
   "cell_type": "markdown",
   "metadata": {},
   "source": [
    "## Read all the data required"
   ]
  },
  {
   "cell_type": "code",
   "execution_count": 3,
   "metadata": {},
   "outputs": [],
   "source": [
    "# Renaming columns so there will be less ambiguity because of similar names\n",
    "drivers_df = spark.read.parquet(f\"{processed_folder_path}/drivers\").withColumnRenamed(\"number\", \"driver_number\")\\\n",
    ".withColumnRenamed(\"name\", \"driver_name\").withColumnRenamed(\"nationality\", \"driver_nationality\")\n",
    "\n",
    "constructors_df = spark.read.parquet(f\"{processed_folder_path}/constructors\").withColumnRenamed(\"name\", \"team\")\n",
    "\n",
    "circuits_df = spark.read.parquet(f\"{processed_folder_path}/circuits\").withColumnRenamed(\"location\", \"circuit_location\")\n",
    "\n",
    "races_df = spark.read.parquet(f\"{processed_folder_path}/races\").withColumnRenamed(\"name\", \"race_name\")\\\n",
    ".withColumnRenamed(\"race_timestamp\", \"race_date\")\n",
    "\n",
    "results_df = spark.read.parquet(f\"{processed_folder_path}/results\").withColumnRenamed(\"time\", \"race_time\")"
   ]
  },
  {
   "cell_type": "markdown",
   "metadata": {},
   "source": [
    "## Join circuits to races"
   ]
  },
  {
   "cell_type": "code",
   "execution_count": 4,
   "metadata": {},
   "outputs": [],
   "source": [
    "race_circuits_df = races_df.join(circuits_df, races_df.circuit_id == circuits_df.circuit_id, \"inner\")\\\n",
    ".select(races_df.race_id, races_df.race_year, races_df.race_name, races_df.race_date, circuits_df.circuit_location)"
   ]
  },
  {
   "cell_type": "code",
   "execution_count": 5,
   "metadata": {},
   "outputs": [
    {
     "name": "stdout",
     "output_type": "stream",
     "text": [
      "+-------+---------+--------------------+-------------------+----------------+\n",
      "|race_id|race_year|           race_name|          race_date|circuit_location|\n",
      "+-------+---------+--------------------+-------------------+----------------+\n",
      "|   1053|     2021|Emilia Romagna Gr...|2021-04-18 13:00:00|           Imola|\n",
      "|   1052|     2021|  Bahrain Grand Prix|2021-03-28 15:00:00|          Sakhir|\n",
      "|   1051|     2021|Australian Grand ...|2021-11-21 06:00:00|       Melbourne|\n",
      "|   1054|     2021|                 TBC|               null|         Nürburg|\n",
      "|   1055|     2021|  Spanish Grand Prix|2021-05-09 13:00:00|        Montmeló|\n",
      "+-------+---------+--------------------+-------------------+----------------+\n",
      "only showing top 5 rows\n",
      "\n"
     ]
    }
   ],
   "source": [
    "race_circuits_df.show(5)"
   ]
  },
  {
   "cell_type": "code",
   "execution_count": 6,
   "metadata": {},
   "outputs": [],
   "source": [
    "## Join results to all other dataframes"
   ]
  },
  {
   "cell_type": "code",
   "execution_count": 7,
   "metadata": {},
   "outputs": [],
   "source": [
    "race_results_df = results_df.join(race_circuits_df, results_df.race_id == race_circuits_df.race_id)\\\n",
    ".join(drivers_df, results_df.driver_id == drivers_df.driver_id)\\\n",
    ".join(constructors_df, results_df.constructor_id == constructors_df.constructor_id)"
   ]
  },
  {
   "cell_type": "code",
   "execution_count": 8,
   "metadata": {},
   "outputs": [
    {
     "data": {
      "text/plain": [
       "['result_id',\n",
       " 'race_id',\n",
       " 'driver_id',\n",
       " 'constructor_id',\n",
       " 'number',\n",
       " 'grid',\n",
       " 'position',\n",
       " 'position_text',\n",
       " 'position_order',\n",
       " 'points',\n",
       " 'laps',\n",
       " 'race_time',\n",
       " 'milliseconds',\n",
       " 'fastest_lap',\n",
       " 'rank',\n",
       " 'fastest_lap_time',\n",
       " 'fastest_lap_speed',\n",
       " 'ingestion_date',\n",
       " 'race_id',\n",
       " 'race_year',\n",
       " 'race_name',\n",
       " 'race_date',\n",
       " 'circuit_location',\n",
       " 'driver_id',\n",
       " 'driver_ref',\n",
       " 'driver_number',\n",
       " 'code',\n",
       " 'driver_name',\n",
       " 'dob',\n",
       " 'driver_nationality',\n",
       " 'ingestion_date',\n",
       " 'constructor_id',\n",
       " 'constructor_ref',\n",
       " 'team',\n",
       " 'nationality',\n",
       " 'ingestion_date']"
      ]
     },
     "execution_count": 8,
     "metadata": {},
     "output_type": "execute_result"
    }
   ],
   "source": [
    "# Check if there are repeated columns\n",
    "race_results_df.columns"
   ]
  },
  {
   "cell_type": "code",
   "execution_count": 22,
   "metadata": {},
   "outputs": [],
   "source": [
    "final_df = race_results_df.select('result_id',\n",
    " races_df['race_id'],\n",
    " drivers_df['driver_id'],\n",
    " constructors_df['constructor_id'],\n",
    " 'number',\n",
    " 'grid',\n",
    " 'position',\n",
    " 'position_text',\n",
    " 'position_order',\n",
    " 'points',\n",
    " 'laps',\n",
    " 'race_time',\n",
    " 'milliseconds',\n",
    " 'fastest_lap',\n",
    " 'rank',\n",
    " 'fastest_lap_time',\n",
    " 'fastest_lap_speed',\n",
    " 'race_year',\n",
    " 'race_name',\n",
    " 'race_date',\n",
    " 'circuit_location',\n",
    " 'driver_ref',\n",
    " 'driver_number',\n",
    " 'code',\n",
    " 'driver_name',\n",
    " 'dob',\n",
    " 'driver_nationality',\n",
    " 'constructor_ref',\n",
    " 'team',\n",
    " 'nationality',\n",
    " drivers_df['ingestion_date'])\\\n",
    ".withColumn(\"created_date\", current_timestamp())"
   ]
  },
  {
   "cell_type": "code",
   "execution_count": 23,
   "metadata": {},
   "outputs": [],
   "source": [
    "final_df.write.csv(\"/home/sunbeam/Desktop/FastLaneForecast/combinedCsv/all_tables\", header=True)"
   ]
  },
  {
   "cell_type": "code",
   "execution_count": 25,
   "metadata": {},
   "outputs": [
    {
     "name": "stdout",
     "output_type": "stream",
     "text": [
      "+---------+-------+---------+--------------+------+----+--------+-------------+--------------+------+----+-----------+------------+-----------+----+----------------+-----------------+---------+--------------------+-------------------+----------------+---------------+-------------+----+-----------------+----------+------------------+---------------+------------+-----------+--------------------+--------------------+\n",
      "|result_id|race_id|driver_id|constructor_id|number|grid|position|position_text|position_order|points|laps|  race_time|milliseconds|fastest_lap|rank|fastest_lap_time|fastest_lap_speed|race_year|           race_name|          race_date|circuit_location|     driver_ref|driver_number|code|      driver_name|       dob|driver_nationality|constructor_ref|        team|nationality|      ingestion_date|        created_date|\n",
      "+---------+-------+---------+--------------+------+----+--------+-------------+--------------+------+----+-----------+------------+-----------+----+----------------+-----------------+---------+--------------------+-------------------+----------------+---------------+-------------+----+-----------------+----------+------------------+---------------+------------+-----------+--------------------+--------------------+\n",
      "|    23801|    989|      845|             3|    35|  19|    null|            R|            20|   0.0|   4|         \\N|        null|          3|  20|        1:32.573|          206.224|     2018|Australian Grand ...|2018-03-25 05:10:00|       Melbourne|       sirotkin|           35| SIR|  Sergey Sirotkin|1995-08-27|           Russian|       williams|    Williams|    British|2023-08-19 22:44:...|2023-08-20 11:41:...|\n",
      "|    23800|    989|      828|            15|     9|  17|    null|            R|            19|   0.0|   5|         \\N|        null|          4|  19|        1:32.210|          207.036|     2018|Australian Grand ...|2018-03-25 05:10:00|       Melbourne|       ericsson|            9| ERI|  Marcus Ericsson|1990-09-02|           Swedish|         sauber|      Sauber|      Swiss|2023-08-19 22:44:...|2023-08-20 11:41:...|\n",
      "|    23799|    989|      842|             5|    10|  20|    null|            R|            18|   0.0|  13|         \\N|        null|         13|  18|        1:30.649|          210.601|     2018|Australian Grand ...|2018-03-25 05:10:00|       Melbourne|          gasly|           10| GAS|     Pierre Gasly|1996-02-07|            French|     toro_rosso|  Toro Rosso|    Italian|2023-08-19 22:44:...|2023-08-20 11:41:...|\n",
      "|    23798|    989|      825|           210|    20|   5|    null|            R|            17|   0.0|  22|         \\N|        null|         21|  17|        1:29.534|          213.224|     2018|Australian Grand ...|2018-03-25 05:10:00|       Melbourne|kevin_magnussen|           20| MAG|  Kevin Magnussen|1992-10-05|            Danish|           haas|Haas F1 Team|   American|2023-08-19 22:44:...|2023-08-20 11:41:...|\n",
      "|    23797|    989|      154|           210|     8|   6|    null|            R|            16|   0.0|  24|         \\N|        null|         23|  16|        1:28.805|          214.974|     2018|Australian Grand ...|2018-03-25 05:10:00|       Melbourne|       grosjean|            8| GRO|  Romain Grosjean|1986-04-17|            French|           haas|Haas F1 Team|   American|2023-08-19 22:44:...|2023-08-20 11:41:...|\n",
      "|    23796|    989|      843|             5|    28|  16|      15|           15|            15|   0.0|  57|         \\N|        null|         57|  13|        1:28.176|          216.507|     2018|Australian Grand ...|2018-03-25 05:10:00|       Melbourne|brendon_hartley|           28| HAR|  Brendon Hartley|1989-11-10|     New Zealander|     toro_rosso|  Toro Rosso|    Italian|2023-08-19 22:44:...|2023-08-20 11:41:...|\n",
      "|    23795|    989|      840|             3|    18|  13|      14|           14|            14|   0.0|  58|  +1:18.288|     5451571|         55|  14|        1:28.511|          215.688|     2018|Australian Grand ...|2018-03-25 05:10:00|       Melbourne|         stroll|           18| STR|     Lance Stroll|1998-10-29|          Canadian|       williams|    Williams|    British|2023-08-19 22:44:...|2023-08-20 11:41:...|\n",
      "|    23794|    989|      844|            15|    16|  18|      13|           13|            13|   0.0|  58|  +1:15.759|     5449042|         56|  15|        1:28.759|          215.085|     2018|Australian Grand ...|2018-03-25 05:10:00|       Melbourne|        leclerc|           16| LEC|  Charles Leclerc|1997-10-16|        Monegasque|         sauber|      Sauber|      Swiss|2023-08-19 22:44:...|2023-08-20 11:41:...|\n",
      "|    23793|    989|      839|            10|    31|  14|      12|           12|            12|   0.0|  58|  +1:00.278|     5433561|         57|  10|        1:27.600|          217.931|     2018|Australian Grand ...|2018-03-25 05:10:00|       Melbourne|           ocon|           31| OCO|     Esteban Ocon|1996-09-17|            French|    force_india| Force India|     Indian|2023-08-19 22:44:...|2023-08-20 11:41:...|\n",
      "|    23792|    989|      815|            10|    11|  12|      11|           11|            11|   0.0|  58|    +46.817|     5420100|         51|  11|        1:27.633|          217.849|     2018|Australian Grand ...|2018-03-25 05:10:00|       Melbourne|          perez|           11| PER|     Sergio Pérez|1990-01-26|           Mexican|    force_india| Force India|     Indian|2023-08-19 22:44:...|2023-08-20 11:41:...|\n",
      "|    23791|    989|      832|             4|    55|   9|      10|           10|            10|   1.0|  58|    +45.722|     5419005|         51|  12|        1:27.944|          217.079|     2018|Australian Grand ...|2018-03-25 05:10:00|       Melbourne|          sainz|           55| SAI|     Carlos Sainz|1994-09-01|           Spanish|        renault|     Renault|     French|2023-08-19 22:44:...|2023-08-20 11:41:...|\n",
      "|    23790|    989|      838|             1|     2|  11|       9|            9|             9|   2.0|  58|    +34.921|     5408204|         57|   6|        1:26.958|           219.54|     2018|Australian Grand ...|2018-03-25 05:10:00|       Melbourne|      vandoorne|            2| VAN|Stoffel Vandoorne|1992-03-26|           Belgian|        mclaren|     McLaren|    British|2023-08-19 22:44:...|2023-08-20 11:41:...|\n",
      "|    23789|    989|      822|           131|    77|  15|       8|            8|             8|   4.0|  58|    +34.339|     5407622|         54|   8|        1:27.019|          219.386|     2018|Australian Grand ...|2018-03-25 05:10:00|       Melbourne|         bottas|           77| BOT|  Valtteri Bottas|1989-08-28|           Finnish|       mercedes|    Mercedes|     German|2023-08-19 22:44:...|2023-08-20 11:41:...|\n",
      "|    23788|    989|      807|             4|    27|   7|       7|            7|             7|   6.0|  58|    +32.671|     5405954|         57|   9|        1:27.081|           219.23|     2018|Australian Grand ...|2018-03-25 05:10:00|       Melbourne|     hulkenberg|           27| HUL|  Nico Hülkenberg|1987-08-19|            German|        renault|     Renault|     French|2023-08-19 22:44:...|2023-08-20 11:41:...|\n",
      "|    23787|    989|      830|             9|    33|   4|       6|            6|             6|   8.0|  58|    +28.945|     5402228|         54|   5|        1:26.880|          219.737|     2018|Australian Grand ...|2018-03-25 05:10:00|       Melbourne| max_verstappen|           33| VER|   Max Verstappen|1997-09-30|             Dutch|       red_bull|    Red Bull|   Austrian|2023-08-19 22:44:...|2023-08-20 11:41:...|\n",
      "|    23786|    989|        4|             1|    14|  10|       5|            5|             5|  10.0|  58|    +27.886|     5401169|         57|   7|        1:26.978|          219.489|     2018|Australian Grand ...|2018-03-25 05:10:00|       Melbourne|         alonso|           14| ALO|  Fernando Alonso|1981-07-29|           Spanish|        mclaren|     McLaren|    British|2023-08-19 22:44:...|2023-08-20 11:41:...|\n",
      "|    23785|    989|      817|             9|     3|   8|       4|            4|             4|  12.0|  58|     +7.069|     5380352|         54|   1|        1:25.945|          222.128|     2018|Australian Grand ...|2018-03-25 05:10:00|       Melbourne|      ricciardo|            3| RIC| Daniel Ricciardo|1989-07-01|        Australian|       red_bull|    Red Bull|   Austrian|2023-08-19 22:44:...|2023-08-20 11:41:...|\n",
      "|    23784|    989|        8|             6|     7|   2|       3|            3|             3|  15.0|  58|     +6.309|     5379592|         57|   2|        1:26.373|          221.027|     2018|Australian Grand ...|2018-03-25 05:10:00|       Melbourne|      raikkonen|            7| RAI|   Kimi Räikkönen|1979-10-17|           Finnish|        ferrari|     Ferrari|    Italian|2023-08-19 22:44:...|2023-08-20 11:41:...|\n",
      "|    23783|    989|        1|           131|    44|   1|       2|            2|             2|  18.0|  58|     +5.036|     5378319|         50|   3|        1:26.444|          220.845|     2018|Australian Grand ...|2018-03-25 05:10:00|       Melbourne|       hamilton|           44| HAM|   Lewis Hamilton|1985-01-07|           British|       mercedes|    Mercedes|     German|2023-08-19 22:44:...|2023-08-20 11:41:...|\n",
      "|    23782|    989|       20|             6|     5|   3|       1|            1|             1|  25.0|  58|1:29:33.283|     5373283|         53|   4|        1:26.469|          220.782|     2018|Australian Grand ...|2018-03-25 05:10:00|       Melbourne|         vettel|            5| VET| Sebastian Vettel|1987-07-03|            German|        ferrari|     Ferrari|    Italian|2023-08-19 22:44:...|2023-08-20 11:41:...|\n",
      "+---------+-------+---------+--------------+------+----+--------+-------------+--------------+------+----+-----------+------------+-----------+----+----------------+-----------------+---------+--------------------+-------------------+----------------+---------------+-------------+----+-----------------+----------+------------------+---------------+------------+-----------+--------------------+--------------------+\n",
      "only showing top 20 rows\n",
      "\n"
     ]
    }
   ],
   "source": [
    "from functools import reduce\n",
    "\n",
    "# List of CSV files to merge\n",
    "csv_files = [\"/home/sunbeam/Desktop/FastLaneForecast/combinedCsv/all_tables/part-00000-45594a6b-c8ec-425b-a9cc-cda013f4c5cb-c000.csv\", \"/home/sunbeam/Desktop/FastLaneForecast/combinedCsv/all_tables/part-00001-45594a6b-c8ec-425b-a9cc-cda013f4c5cb-c000.csv\", \"/home/sunbeam/Desktop/FastLaneForecast/combinedCsv/all_tables/part-00002-45594a6b-c8ec-425b-a9cc-cda013f4c5cb-c000.csv\"]\n",
    "\n",
    "# Read CSV files and create DataFrames\n",
    "dataframes = [spark.read.csv(file, header=True, inferSchema=True) for file in csv_files]\n",
    "\n",
    "# Union all DataFrames\n",
    "merged_dataframe = reduce(lambda x, y: x.union(y), dataframes)\n",
    "\n",
    "# Show the merged DataFrame\n",
    "merged_dataframe.show()"
   ]
  },
  {
   "cell_type": "code",
   "execution_count": 26,
   "metadata": {},
   "outputs": [],
   "source": [
    "merged_dataframe.write.csv(\"/home/sunbeam/Desktop/FastLaneForecast/combinedCsv/one_table\", header=True)"
   ]
  },
  {
   "cell_type": "code",
   "execution_count": 27,
   "metadata": {},
   "outputs": [],
   "source": [
    "#analysis"
   ]
  },
  {
   "cell_type": "code",
   "execution_count": 30,
   "metadata": {},
   "outputs": [],
   "source": [
    "merged_csv = spark.read.csv(r\"/home/sunbeam/Desktop/FastLaneForecast/combinedCsv/one_table/merged.csv\", header=True)\n",
    "\n",
    "merged_csv.columns"
   ]
  },
  {
   "cell_type": "code",
   "execution_count": 36,
   "metadata": {},
   "outputs": [],
   "source": [
    "# Define era ranges\n",
    "era_ranges = {\n",
    "    \"Pre-Modern Era\": (1950, 1969),\n",
    "    \"Transition Era\": (1970, 1982),\n",
    "    \"Turbo Era\": (1983, 1989),\n",
    "    \"Modern Era\": (1990, 2021)\n",
    "}\n",
    "\n",
    "# Function to determine era based on year\n",
    "def get_era(year):\n",
    "    for era, (start, end) in era_ranges.items():\n",
    "        if start <= year and year <= end:\n",
    "            return era\n",
    "    return \"Unknown\""
   ]
  },
  {
   "cell_type": "code",
   "execution_count": 38,
   "metadata": {},
   "outputs": [
    {
     "ename": "ValueError",
     "evalue": "Cannot convert column into bool: please use '&' for 'and', '|' for 'or', '~' for 'not' when building DataFrame boolean expressions.",
     "output_type": "error",
     "traceback": [
      "\u001b[0;31m---------------------------------------------------------------------------\u001b[0m",
      "\u001b[0;31mValueError\u001b[0m                                Traceback (most recent call last)",
      "\u001b[0;32m<ipython-input-38-bdb6904f5715>\u001b[0m in \u001b[0;36m<module>\u001b[0;34m()\u001b[0m\n\u001b[1;32m      1\u001b[0m \u001b[0;31m# Add Era column to races DataFrame\u001b[0m\u001b[0;34m\u001b[0m\u001b[0;34m\u001b[0m\u001b[0;34m\u001b[0m\u001b[0m\n\u001b[0;32m----> 2\u001b[0;31m \u001b[0mraces_with_era_df\u001b[0m \u001b[0;34m=\u001b[0m \u001b[0mmerged_csv\u001b[0m\u001b[0;34m.\u001b[0m\u001b[0mwithColumn\u001b[0m\u001b[0;34m(\u001b[0m\u001b[0;34m\"Era\"\u001b[0m\u001b[0;34m,\u001b[0m \u001b[0mget_era\u001b[0m\u001b[0;34m(\u001b[0m\u001b[0mmerged_csv\u001b[0m\u001b[0;34m[\u001b[0m\u001b[0;34m\"race_year\"\u001b[0m\u001b[0;34m]\u001b[0m\u001b[0;34m)\u001b[0m\u001b[0;34m)\u001b[0m\u001b[0;34m\u001b[0m\u001b[0;34m\u001b[0m\u001b[0m\n\u001b[0m",
      "\u001b[0;32m<ipython-input-36-6668de7e1e7c>\u001b[0m in \u001b[0;36mget_era\u001b[0;34m(year)\u001b[0m\n\u001b[1;32m     10\u001b[0m \u001b[0;32mdef\u001b[0m \u001b[0mget_era\u001b[0m\u001b[0;34m(\u001b[0m\u001b[0myear\u001b[0m\u001b[0;34m)\u001b[0m\u001b[0;34m:\u001b[0m\u001b[0;34m\u001b[0m\u001b[0;34m\u001b[0m\u001b[0m\n\u001b[1;32m     11\u001b[0m     \u001b[0;32mfor\u001b[0m \u001b[0mera\u001b[0m\u001b[0;34m,\u001b[0m \u001b[0;34m(\u001b[0m\u001b[0mstart\u001b[0m\u001b[0;34m,\u001b[0m \u001b[0mend\u001b[0m\u001b[0;34m)\u001b[0m \u001b[0;32min\u001b[0m \u001b[0mera_ranges\u001b[0m\u001b[0;34m.\u001b[0m\u001b[0mitems\u001b[0m\u001b[0;34m(\u001b[0m\u001b[0;34m)\u001b[0m\u001b[0;34m:\u001b[0m\u001b[0;34m\u001b[0m\u001b[0;34m\u001b[0m\u001b[0m\n\u001b[0;32m---> 12\u001b[0;31m         \u001b[0;32mif\u001b[0m \u001b[0mstart\u001b[0m \u001b[0;34m<=\u001b[0m \u001b[0myear\u001b[0m \u001b[0;32mand\u001b[0m \u001b[0myear\u001b[0m \u001b[0;34m<=\u001b[0m \u001b[0mend\u001b[0m\u001b[0;34m:\u001b[0m\u001b[0;34m\u001b[0m\u001b[0;34m\u001b[0m\u001b[0m\n\u001b[0m\u001b[1;32m     13\u001b[0m             \u001b[0;32mreturn\u001b[0m \u001b[0mera\u001b[0m\u001b[0;34m\u001b[0m\u001b[0;34m\u001b[0m\u001b[0m\n\u001b[1;32m     14\u001b[0m     \u001b[0;32mreturn\u001b[0m \u001b[0;34m\"Unknown\"\u001b[0m\u001b[0;34m\u001b[0m\u001b[0;34m\u001b[0m\u001b[0m\n",
      "\u001b[0;32m/home/sunbeam/.local/lib/python3.6/site-packages/pyspark/sql/column.py\u001b[0m in \u001b[0;36m__nonzero__\u001b[0;34m(self)\u001b[0m\n\u001b[1;32m    905\u001b[0m \u001b[0;34m\u001b[0m\u001b[0m\n\u001b[1;32m    906\u001b[0m     \u001b[0;32mdef\u001b[0m \u001b[0m__nonzero__\u001b[0m\u001b[0;34m(\u001b[0m\u001b[0mself\u001b[0m\u001b[0;34m)\u001b[0m\u001b[0;34m:\u001b[0m\u001b[0;34m\u001b[0m\u001b[0;34m\u001b[0m\u001b[0m\n\u001b[0;32m--> 907\u001b[0;31m         raise ValueError(\"Cannot convert column into bool: please use '&' for 'and', '|' for 'or', \"\n\u001b[0m\u001b[1;32m    908\u001b[0m                          \"'~' for 'not' when building DataFrame boolean expressions.\")\n\u001b[1;32m    909\u001b[0m     \u001b[0m__bool__\u001b[0m \u001b[0;34m=\u001b[0m \u001b[0m__nonzero__\u001b[0m\u001b[0;34m\u001b[0m\u001b[0;34m\u001b[0m\u001b[0m\n",
      "\u001b[0;31mValueError\u001b[0m: Cannot convert column into bool: please use '&' for 'and', '|' for 'or', '~' for 'not' when building DataFrame boolean expressions."
     ]
    }
   ],
   "source": [
    "# Add Era column to races DataFrame\n",
    "races_with_era_df = merged_csv.withColumn(\"Era\", get_era(merged_csv[\"race_year\"]))"
   ]
  },
  {
   "cell_type": "code",
   "execution_count": null,
   "metadata": {},
   "outputs": [],
   "source": [
    "\n",
    "# Perform analysis within each era\n",
    "era_analysis_df = races_with_era_df.groupBy(\"Era\").agg(\n",
    "    # Add your analysis calculations here\n",
    ")\n",
    "\n",
    "# Show the era-wise analysis\n",
    "era_analysis_df.show()\n",
    "\n",
    "# Stop the Spark session\n",
    "# spark.stop()"
   ]
  },
  {
   "cell_type": "code",
   "execution_count": 39,
   "metadata": {},
   "outputs": [],
   "source": [
    "era_csv = spark.read.csv(r\"/home/sunbeam/Desktop/FastLaneForecast/combinedCsv/one_table/merged_era_file.csv\", header=True)"
   ]
  },
  {
   "cell_type": "code",
   "execution_count": 40,
   "metadata": {},
   "outputs": [
    {
     "data": {
      "text/plain": [
       "['result_id',\n",
       " 'race_id',\n",
       " 'driver_id',\n",
       " 'constructor_id',\n",
       " 'number',\n",
       " 'grid',\n",
       " 'position',\n",
       " 'position_text',\n",
       " 'position_order',\n",
       " 'points',\n",
       " 'laps',\n",
       " 'race_time',\n",
       " 'milliseconds',\n",
       " 'fastest_lap',\n",
       " 'rank',\n",
       " 'fastest_lap_time',\n",
       " 'fastest_lap_speed',\n",
       " 'race_year',\n",
       " 'race_name',\n",
       " 'race_date',\n",
       " 'circuit_location',\n",
       " 'driver_ref',\n",
       " 'driver_number',\n",
       " 'code',\n",
       " 'driver_name',\n",
       " 'dob',\n",
       " 'driver_nationality',\n",
       " 'constructor_ref',\n",
       " 'team',\n",
       " 'nationality',\n",
       " 'ingestion_date',\n",
       " 'created_date',\n",
       " 'era',\n",
       " '_c33']"
      ]
     },
     "execution_count": 40,
     "metadata": {},
     "output_type": "execute_result"
    }
   ],
   "source": [
    "era_csv.columns"
   ]
  },
  {
   "cell_type": "code",
   "execution_count": 42,
   "metadata": {},
   "outputs": [],
   "source": [
    "final_df = era_csv.drop(\"_c33\")"
   ]
  },
  {
   "cell_type": "code",
   "execution_count": null,
   "metadata": {},
   "outputs": [],
   "source": []
  },
  {
   "cell_type": "code",
   "execution_count": 53,
   "metadata": {},
   "outputs": [
    {
     "name": "stdout",
     "output_type": "stream",
     "text": [
      "+-------------+------+\n",
      "|  driver_name|points|\n",
      "+-------------+------+\n",
      "| Adolf Brudes|     0|\n",
      "|  Adolfo Cruz|     0|\n",
      "| Adrian Sutil|     8|\n",
      "| Adrian Sutil|     8|\n",
      "| Adrian Sutil|     8|\n",
      "| Adrian Sutil|     6|\n",
      "| Adrian Sutil|     6|\n",
      "|Adrián Campos|     0|\n",
      "|Adrián Campos|     0|\n",
      "|Adrián Campos|     0|\n",
      "|Adrián Campos|     0|\n",
      "|Adrián Campos|     0|\n",
      "| Aguri Suzuki|     4|\n",
      "| Aguri Suzuki|     1|\n",
      "| Aguri Suzuki|     1|\n",
      "| Aguri Suzuki|     1|\n",
      "| Aguri Suzuki|     1|\n",
      "|    Al Herman|     0|\n",
      "|    Al Herman|     0|\n",
      "|    Al Herman|     0|\n",
      "+-------------+------+\n",
      "only showing top 20 rows\n",
      "\n"
     ]
    }
   ],
   "source": [
    "\n",
    "from pyspark.sql.window import Window\n",
    "from pyspark.sql import functions as F\n",
    "\n",
    "# Define a window specification partitioned by driver name and ordered by points\n",
    "window_spec = Window.partitionBy(\"driver_name\").orderBy(F.desc(\"points\"))\n",
    "\n",
    "# Create a new column with the rank of each driver based on points\n",
    "df_with_rank = final_df.withColumn(\"rank\", F.row_number().over(window_spec))\n",
    "\n",
    "# Select the top 5 drivers' data based on the rank\n",
    "top_5_drivers = df_with_rank.filter(F.col(\"rank\") <= 5)\n",
    "\n",
    "# Show the result\n",
    "top_5_drivers.select(\"driver_name\", \"points\").show()"
   ]
  },
  {
   "cell_type": "code",
   "execution_count": 75,
   "metadata": {},
   "outputs": [
    {
     "ename": "AnalysisException",
     "evalue": "It is not allowed to use window functions inside WHERE clause",
     "output_type": "error",
     "traceback": [
      "\u001b[0;31m---------------------------------------------------------------------------\u001b[0m",
      "\u001b[0;31mAnalysisException\u001b[0m                         Traceback (most recent call last)",
      "\u001b[0;32m<ipython-input-75-89fd82ad2a92>\u001b[0m in \u001b[0;36m<module>\u001b[0;34m()\u001b[0m\n\u001b[1;32m      3\u001b[0m \u001b[0;34m\u001b[0m\u001b[0m\n\u001b[1;32m      4\u001b[0m \u001b[0;31m# Write and execute the SQL query to get top 5 drivers' points for each era\u001b[0m\u001b[0;34m\u001b[0m\u001b[0;34m\u001b[0m\u001b[0;34m\u001b[0m\u001b[0m\n\u001b[0;32m----> 5\u001b[0;31m \u001b[0mspark\u001b[0m\u001b[0;34m.\u001b[0m\u001b[0msql\u001b[0m\u001b[0;34m(\u001b[0m\u001b[0;34m\"SELECT driver_name, points, DENSE_RANK() OVER(PARTITION BY era ORDER BY points DESC) AS points_rank, era FROM f1_data WHERE DENSE_RANK() OVER(PARTITION BY era ORDER BY points DESC) <= 5\"\u001b[0m\u001b[0;34m)\u001b[0m\u001b[0;34m.\u001b[0m\u001b[0mshow\u001b[0m\u001b[0;34m(\u001b[0m\u001b[0;34m)\u001b[0m\u001b[0;34m\u001b[0m\u001b[0;34m\u001b[0m\u001b[0m\n\u001b[0m",
      "\u001b[0;32m/home/sunbeam/.local/lib/python3.6/site-packages/pyspark/sql/session.py\u001b[0m in \u001b[0;36msql\u001b[0;34m(self, sqlQuery)\u001b[0m\n\u001b[1;32m    721\u001b[0m         \u001b[0;34m[\u001b[0m\u001b[0mRow\u001b[0m\u001b[0;34m(\u001b[0m\u001b[0mf1\u001b[0m\u001b[0;34m=\u001b[0m\u001b[0;36m1\u001b[0m\u001b[0;34m,\u001b[0m \u001b[0mf2\u001b[0m\u001b[0;34m=\u001b[0m\u001b[0;34m'row1'\u001b[0m\u001b[0;34m)\u001b[0m\u001b[0;34m,\u001b[0m \u001b[0mRow\u001b[0m\u001b[0;34m(\u001b[0m\u001b[0mf1\u001b[0m\u001b[0;34m=\u001b[0m\u001b[0;36m2\u001b[0m\u001b[0;34m,\u001b[0m \u001b[0mf2\u001b[0m\u001b[0;34m=\u001b[0m\u001b[0;34m'row2'\u001b[0m\u001b[0;34m)\u001b[0m\u001b[0;34m,\u001b[0m \u001b[0mRow\u001b[0m\u001b[0;34m(\u001b[0m\u001b[0mf1\u001b[0m\u001b[0;34m=\u001b[0m\u001b[0;36m3\u001b[0m\u001b[0;34m,\u001b[0m \u001b[0mf2\u001b[0m\u001b[0;34m=\u001b[0m\u001b[0;34m'row3'\u001b[0m\u001b[0;34m)\u001b[0m\u001b[0;34m]\u001b[0m\u001b[0;34m\u001b[0m\u001b[0;34m\u001b[0m\u001b[0m\n\u001b[1;32m    722\u001b[0m         \"\"\"\n\u001b[0;32m--> 723\u001b[0;31m         \u001b[0;32mreturn\u001b[0m \u001b[0mDataFrame\u001b[0m\u001b[0;34m(\u001b[0m\u001b[0mself\u001b[0m\u001b[0;34m.\u001b[0m\u001b[0m_jsparkSession\u001b[0m\u001b[0;34m.\u001b[0m\u001b[0msql\u001b[0m\u001b[0;34m(\u001b[0m\u001b[0msqlQuery\u001b[0m\u001b[0;34m)\u001b[0m\u001b[0;34m,\u001b[0m \u001b[0mself\u001b[0m\u001b[0;34m.\u001b[0m\u001b[0m_wrapped\u001b[0m\u001b[0;34m)\u001b[0m\u001b[0;34m\u001b[0m\u001b[0;34m\u001b[0m\u001b[0m\n\u001b[0m\u001b[1;32m    724\u001b[0m \u001b[0;34m\u001b[0m\u001b[0m\n\u001b[1;32m    725\u001b[0m     \u001b[0;32mdef\u001b[0m \u001b[0mtable\u001b[0m\u001b[0;34m(\u001b[0m\u001b[0mself\u001b[0m\u001b[0;34m,\u001b[0m \u001b[0mtableName\u001b[0m\u001b[0;34m)\u001b[0m\u001b[0;34m:\u001b[0m\u001b[0;34m\u001b[0m\u001b[0;34m\u001b[0m\u001b[0m\n",
      "\u001b[0;32m/home/sunbeam/.local/lib/python3.6/site-packages/py4j/java_gateway.py\u001b[0m in \u001b[0;36m__call__\u001b[0;34m(self, *args)\u001b[0m\n\u001b[1;32m   1320\u001b[0m         \u001b[0manswer\u001b[0m \u001b[0;34m=\u001b[0m \u001b[0mself\u001b[0m\u001b[0;34m.\u001b[0m\u001b[0mgateway_client\u001b[0m\u001b[0;34m.\u001b[0m\u001b[0msend_command\u001b[0m\u001b[0;34m(\u001b[0m\u001b[0mcommand\u001b[0m\u001b[0;34m)\u001b[0m\u001b[0;34m\u001b[0m\u001b[0;34m\u001b[0m\u001b[0m\n\u001b[1;32m   1321\u001b[0m         return_value = get_return_value(\n\u001b[0;32m-> 1322\u001b[0;31m             answer, self.gateway_client, self.target_id, self.name)\n\u001b[0m\u001b[1;32m   1323\u001b[0m \u001b[0;34m\u001b[0m\u001b[0m\n\u001b[1;32m   1324\u001b[0m         \u001b[0;32mfor\u001b[0m \u001b[0mtemp_arg\u001b[0m \u001b[0;32min\u001b[0m \u001b[0mtemp_args\u001b[0m\u001b[0;34m:\u001b[0m\u001b[0;34m\u001b[0m\u001b[0;34m\u001b[0m\u001b[0m\n",
      "\u001b[0;32m/home/sunbeam/.local/lib/python3.6/site-packages/pyspark/sql/utils.py\u001b[0m in \u001b[0;36mdeco\u001b[0;34m(*a, **kw)\u001b[0m\n\u001b[1;32m    115\u001b[0m                 \u001b[0;31m# Hide where the exception came from that shows a non-Pythonic\u001b[0m\u001b[0;34m\u001b[0m\u001b[0;34m\u001b[0m\u001b[0;34m\u001b[0m\u001b[0m\n\u001b[1;32m    116\u001b[0m                 \u001b[0;31m# JVM exception message.\u001b[0m\u001b[0;34m\u001b[0m\u001b[0;34m\u001b[0m\u001b[0;34m\u001b[0m\u001b[0m\n\u001b[0;32m--> 117\u001b[0;31m                 \u001b[0;32mraise\u001b[0m \u001b[0mconverted\u001b[0m \u001b[0;32mfrom\u001b[0m \u001b[0;32mNone\u001b[0m\u001b[0;34m\u001b[0m\u001b[0;34m\u001b[0m\u001b[0m\n\u001b[0m\u001b[1;32m    118\u001b[0m             \u001b[0;32melse\u001b[0m\u001b[0;34m:\u001b[0m\u001b[0;34m\u001b[0m\u001b[0;34m\u001b[0m\u001b[0m\n\u001b[1;32m    119\u001b[0m                 \u001b[0;32mraise\u001b[0m\u001b[0;34m\u001b[0m\u001b[0;34m\u001b[0m\u001b[0m\n",
      "\u001b[0;31mAnalysisException\u001b[0m: It is not allowed to use window functions inside WHERE clause"
     ]
    }
   ],
   "source": [
    "# Create a temporary SQL view from the DataFrame\n",
    "final_df.createOrReplaceTempView(\"f1_data\")\n",
    "\n",
    "# Write and execute the SQL query to get top 5 drivers' points for each era\n",
    "spark.sql(\"SELECT driver_name, points, DENSE_RANK() OVER(PARTITION BY era ORDER BY points DESC) AS points_rank, era FROM f1_data WHERE DENSE_RANK() OVER(PARTITION BY era ORDER BY points DESC) <= 5\").show()"
   ]
  },
  {
   "cell_type": "code",
   "execution_count": 50,
   "metadata": {},
   "outputs": [],
   "source": [
    "# Task 1: Average Points and Standings\n",
    "average_points_by_era = final_df.groupBy(\"era\").agg(round(avg(\"points\"), 2).alias(\"average_points\"))\n",
    "average_standings_by_era = final_df.groupBy(\"era\").agg(round(avg(\"position\"), 0).alias(\"average_position\"))"
   ]
  },
  {
   "cell_type": "code",
   "execution_count": 51,
   "metadata": {},
   "outputs": [
    {
     "name": "stdout",
     "output_type": "stream",
     "text": [
      "+--------------+--------------+\n",
      "|           era|average_points|\n",
      "+--------------+--------------+\n",
      "|Transition Era|          0.92|\n",
      "|Pre-Modern Era|          1.09|\n",
      "|    Modern Era|          2.56|\n",
      "|     Turbo Era|          0.86|\n",
      "+--------------+--------------+\n",
      "\n"
     ]
    }
   ],
   "source": [
    "average_points_by_era.show()"
   ]
  },
  {
   "cell_type": "code",
   "execution_count": 52,
   "metadata": {},
   "outputs": [
    {
     "name": "stdout",
     "output_type": "stream",
     "text": [
      "+--------------+----------------+\n",
      "|           era|average_position|\n",
      "+--------------+----------------+\n",
      "|Transition Era|             7.0|\n",
      "|Pre-Modern Era|             7.0|\n",
      "|    Modern Era|             9.0|\n",
      "|     Turbo Era|             7.0|\n",
      "+--------------+----------------+\n",
      "\n"
     ]
    }
   ],
   "source": [
    "average_standings_by_era.show()"
   ]
  },
  {
   "cell_type": "code",
   "execution_count": 81,
   "metadata": {},
   "outputs": [
    {
     "name": "stdout",
     "output_type": "stream",
     "text": [
      "+---------+-------+---------+--------------+------+----+--------+-------------+--------------+------+----+---------+------------+-----------+----+----------------+-----------------+---------+--------------------+--------------------+----------------+----------+-------------+----+---------------+--------+------------------+---------------+--------+-----------+--------------------+--------------------+----------+\n",
      "|result_id|race_id|driver_id|constructor_id|number|grid|position|position_text|position_order|points|laps|race_time|milliseconds|fastest_lap|rank|fastest_lap_time|fastest_lap_speed|race_year|           race_name|           race_date|circuit_location|driver_ref|driver_number|code|    driver_name|     dob|driver_nationality|constructor_ref|    team|nationality|      ingestion_date|        created_date|       era|\n",
      "+---------+-------+---------+--------------+------+----+--------+-------------+--------------+------+----+---------+------------+-----------+----+----------------+-----------------+---------+--------------------+--------------------+----------------+----------+-------------+----+---------------+--------+------------------+---------------+--------+-----------+--------------------+--------------------+----------+\n",
      "|    23801|    989|      845|             3|    35|  19|    null|            R|            20|     0|   4|       \\N|        null|          3|  20|         01:32.6|          206.224|     2018|Australian Grand ...|2018-03-25T05:10:...|       Melbourne|  sirotkin|           35| SIR|Sergey Sirotkin|27-08-95|           Russian|       williams|Williams|    British|2023-08-19T22:44:...|2023-08-20T11:41:...|Modern Era|\n",
      "+---------+-------+---------+--------------+------+----+--------+-------------+--------------+------+----+---------+------------+-----------+----+----------------+-----------------+---------+--------------------+--------------------+----------------+----------+-------------+----+---------------+--------+------------------+---------------+--------+-----------+--------------------+--------------------+----------+\n",
      "only showing top 1 row\n",
      "\n"
     ]
    }
   ],
   "source": [
    "final_df.show(1)"
   ]
  },
  {
   "cell_type": "code",
   "execution_count": 77,
   "metadata": {},
   "outputs": [
    {
     "ename": "AnalysisException",
     "evalue": "cannot resolve 'wins' given input columns: [circuit_location, code, constructor_id, constructor_ref, created_date, dob, driver_id, driver_name, driver_nationality, driver_number, driver_ref, era, fastest_lap, fastest_lap_speed, fastest_lap_time, grid, ingestion_date, laps, milliseconds, nationality, number, points, position, position_order, position_text, race_date, race_id, race_name, race_time, race_year, rank, result_id, team];\n'Aggregate [era#1716], [era#1716, sum('wins) AS total_wins#2716, sum('podiums) AS total_podiums#2718]\n+- Project [result_id#1684, race_id#1685, driver_id#1686, constructor_id#1687, number#1688, grid#1689, position#1690, position_text#1691, position_order#1692, points#1693, laps#1694, race_time#1695, milliseconds#1696, fastest_lap#1697, rank#1698, fastest_lap_time#1699, fastest_lap_speed#1700, race_year#1701, race_name#1702, race_date#1703, circuit_location#1704, driver_ref#1705, driver_number#1706, code#1707, ... 9 more fields]\n   +- Relation [result_id#1684,race_id#1685,driver_id#1686,constructor_id#1687,number#1688,grid#1689,position#1690,position_text#1691,position_order#1692,points#1693,laps#1694,race_time#1695,milliseconds#1696,fastest_lap#1697,rank#1698,fastest_lap_time#1699,fastest_lap_speed#1700,race_year#1701,race_name#1702,race_date#1703,circuit_location#1704,driver_ref#1705,driver_number#1706,code#1707,... 10 more fields] csv\n",
     "output_type": "error",
     "traceback": [
      "\u001b[0;31m---------------------------------------------------------------------------\u001b[0m",
      "\u001b[0;31mAnalysisException\u001b[0m                         Traceback (most recent call last)",
      "\u001b[0;32m<ipython-input-77-5d3aa0670ceb>\u001b[0m in \u001b[0;36m<module>\u001b[0;34m()\u001b[0m\n\u001b[1;32m      1\u001b[0m \u001b[0;31m# Task 2: Wins and Podium Finishes\u001b[0m\u001b[0;34m\u001b[0m\u001b[0;34m\u001b[0m\u001b[0;34m\u001b[0m\u001b[0m\n\u001b[0;32m----> 2\u001b[0;31m \u001b[0mwins_and_podiums_by_era\u001b[0m \u001b[0;34m=\u001b[0m \u001b[0mfinal_df\u001b[0m\u001b[0;34m.\u001b[0m\u001b[0mgroupBy\u001b[0m\u001b[0;34m(\u001b[0m\u001b[0;34m\"era\"\u001b[0m\u001b[0;34m)\u001b[0m\u001b[0;34m.\u001b[0m\u001b[0magg\u001b[0m\u001b[0;34m(\u001b[0m\u001b[0msum\u001b[0m\u001b[0;34m(\u001b[0m\u001b[0;34m\"wins\"\u001b[0m\u001b[0;34m)\u001b[0m\u001b[0;34m.\u001b[0m\u001b[0malias\u001b[0m\u001b[0;34m(\u001b[0m\u001b[0;34m\"total_wins\"\u001b[0m\u001b[0;34m)\u001b[0m\u001b[0;34m,\u001b[0m \u001b[0msum\u001b[0m\u001b[0;34m(\u001b[0m\u001b[0;34m\"podiums\"\u001b[0m\u001b[0;34m)\u001b[0m\u001b[0;34m.\u001b[0m\u001b[0malias\u001b[0m\u001b[0;34m(\u001b[0m\u001b[0;34m\"total_podiums\"\u001b[0m\u001b[0;34m)\u001b[0m\u001b[0;34m)\u001b[0m\u001b[0;34m\u001b[0m\u001b[0;34m\u001b[0m\u001b[0m\n\u001b[0m",
      "\u001b[0;32m/home/sunbeam/.local/lib/python3.6/site-packages/pyspark/sql/group.py\u001b[0m in \u001b[0;36magg\u001b[0;34m(self, *exprs)\u001b[0m\n\u001b[1;32m    117\u001b[0m             \u001b[0;32massert\u001b[0m \u001b[0mall\u001b[0m\u001b[0;34m(\u001b[0m\u001b[0misinstance\u001b[0m\u001b[0;34m(\u001b[0m\u001b[0mc\u001b[0m\u001b[0;34m,\u001b[0m \u001b[0mColumn\u001b[0m\u001b[0;34m)\u001b[0m \u001b[0;32mfor\u001b[0m \u001b[0mc\u001b[0m \u001b[0;32min\u001b[0m \u001b[0mexprs\u001b[0m\u001b[0;34m)\u001b[0m\u001b[0;34m,\u001b[0m \u001b[0;34m\"all exprs should be Column\"\u001b[0m\u001b[0;34m\u001b[0m\u001b[0;34m\u001b[0m\u001b[0m\n\u001b[1;32m    118\u001b[0m             jdf = self._jgd.agg(exprs[0]._jc,\n\u001b[0;32m--> 119\u001b[0;31m                                 _to_seq(self.sql_ctx._sc, [c._jc for c in exprs[1:]]))\n\u001b[0m\u001b[1;32m    120\u001b[0m         \u001b[0;32mreturn\u001b[0m \u001b[0mDataFrame\u001b[0m\u001b[0;34m(\u001b[0m\u001b[0mjdf\u001b[0m\u001b[0;34m,\u001b[0m \u001b[0mself\u001b[0m\u001b[0;34m.\u001b[0m\u001b[0msql_ctx\u001b[0m\u001b[0;34m)\u001b[0m\u001b[0;34m\u001b[0m\u001b[0;34m\u001b[0m\u001b[0m\n\u001b[1;32m    121\u001b[0m \u001b[0;34m\u001b[0m\u001b[0m\n",
      "\u001b[0;32m/home/sunbeam/.local/lib/python3.6/site-packages/py4j/java_gateway.py\u001b[0m in \u001b[0;36m__call__\u001b[0;34m(self, *args)\u001b[0m\n\u001b[1;32m   1320\u001b[0m         \u001b[0manswer\u001b[0m \u001b[0;34m=\u001b[0m \u001b[0mself\u001b[0m\u001b[0;34m.\u001b[0m\u001b[0mgateway_client\u001b[0m\u001b[0;34m.\u001b[0m\u001b[0msend_command\u001b[0m\u001b[0;34m(\u001b[0m\u001b[0mcommand\u001b[0m\u001b[0;34m)\u001b[0m\u001b[0;34m\u001b[0m\u001b[0;34m\u001b[0m\u001b[0m\n\u001b[1;32m   1321\u001b[0m         return_value = get_return_value(\n\u001b[0;32m-> 1322\u001b[0;31m             answer, self.gateway_client, self.target_id, self.name)\n\u001b[0m\u001b[1;32m   1323\u001b[0m \u001b[0;34m\u001b[0m\u001b[0m\n\u001b[1;32m   1324\u001b[0m         \u001b[0;32mfor\u001b[0m \u001b[0mtemp_arg\u001b[0m \u001b[0;32min\u001b[0m \u001b[0mtemp_args\u001b[0m\u001b[0;34m:\u001b[0m\u001b[0;34m\u001b[0m\u001b[0;34m\u001b[0m\u001b[0m\n",
      "\u001b[0;32m/home/sunbeam/.local/lib/python3.6/site-packages/pyspark/sql/utils.py\u001b[0m in \u001b[0;36mdeco\u001b[0;34m(*a, **kw)\u001b[0m\n\u001b[1;32m    115\u001b[0m                 \u001b[0;31m# Hide where the exception came from that shows a non-Pythonic\u001b[0m\u001b[0;34m\u001b[0m\u001b[0;34m\u001b[0m\u001b[0;34m\u001b[0m\u001b[0m\n\u001b[1;32m    116\u001b[0m                 \u001b[0;31m# JVM exception message.\u001b[0m\u001b[0;34m\u001b[0m\u001b[0;34m\u001b[0m\u001b[0;34m\u001b[0m\u001b[0m\n\u001b[0;32m--> 117\u001b[0;31m                 \u001b[0;32mraise\u001b[0m \u001b[0mconverted\u001b[0m \u001b[0;32mfrom\u001b[0m \u001b[0;32mNone\u001b[0m\u001b[0;34m\u001b[0m\u001b[0;34m\u001b[0m\u001b[0m\n\u001b[0m\u001b[1;32m    118\u001b[0m             \u001b[0;32melse\u001b[0m\u001b[0;34m:\u001b[0m\u001b[0;34m\u001b[0m\u001b[0;34m\u001b[0m\u001b[0m\n\u001b[1;32m    119\u001b[0m                 \u001b[0;32mraise\u001b[0m\u001b[0;34m\u001b[0m\u001b[0;34m\u001b[0m\u001b[0m\n",
      "\u001b[0;31mAnalysisException\u001b[0m: cannot resolve 'wins' given input columns: [circuit_location, code, constructor_id, constructor_ref, created_date, dob, driver_id, driver_name, driver_nationality, driver_number, driver_ref, era, fastest_lap, fastest_lap_speed, fastest_lap_time, grid, ingestion_date, laps, milliseconds, nationality, number, points, position, position_order, position_text, race_date, race_id, race_name, race_time, race_year, rank, result_id, team];\n'Aggregate [era#1716], [era#1716, sum('wins) AS total_wins#2716, sum('podiums) AS total_podiums#2718]\n+- Project [result_id#1684, race_id#1685, driver_id#1686, constructor_id#1687, number#1688, grid#1689, position#1690, position_text#1691, position_order#1692, points#1693, laps#1694, race_time#1695, milliseconds#1696, fastest_lap#1697, rank#1698, fastest_lap_time#1699, fastest_lap_speed#1700, race_year#1701, race_name#1702, race_date#1703, circuit_location#1704, driver_ref#1705, driver_number#1706, code#1707, ... 9 more fields]\n   +- Relation [result_id#1684,race_id#1685,driver_id#1686,constructor_id#1687,number#1688,grid#1689,position#1690,position_text#1691,position_order#1692,points#1693,laps#1694,race_time#1695,milliseconds#1696,fastest_lap#1697,rank#1698,fastest_lap_time#1699,fastest_lap_speed#1700,race_year#1701,race_name#1702,race_date#1703,circuit_location#1704,driver_ref#1705,driver_number#1706,code#1707,... 10 more fields] csv\n"
     ]
    }
   ],
   "source": [
    "# Task 2: Wins and Podium Finishes\n",
    "wins_and_podiums_by_era = final_df.groupBy(\"era\").agg(sum(\"wins\").alias(\"total_wins\"), sum(\"podiums\").alias(\"total_podiums\"))\n"
   ]
  },
  {
   "cell_type": "code",
   "execution_count": null,
   "metadata": {},
   "outputs": [],
   "source": []
  },
  {
   "cell_type": "code",
   "execution_count": null,
   "metadata": {},
   "outputs": [],
   "source": []
  },
  {
   "cell_type": "code",
   "execution_count": null,
   "metadata": {},
   "outputs": [],
   "source": [
    "#stop"
   ]
  },
  {
   "cell_type": "code",
   "execution_count": 9,
   "metadata": {},
   "outputs": [],
   "source": [
    "final_df = race_results_df.select(\"race_year\", \"race_name\", \"race_date\", \"circuit_location\", \"driver_name\", \"driver_number\", \"driver_nationality\", \"team\", \"grid\", \"fastest_lap\", \"race_time\", \"points\", \"position\")\\\n",
    ".withColumn(\"created_date\", current_timestamp())"
   ]
  },
  {
   "cell_type": "code",
   "execution_count": 10,
   "metadata": {},
   "outputs": [
    {
     "name": "stdout",
     "output_type": "stream",
     "text": [
      "+---------+--------------------+-------------------+----------------+---------------+-------------+------------------+--------+----+-----------+-----------+------+--------+--------------------+\n",
      "|race_year|           race_name|          race_date|circuit_location|    driver_name|driver_number|driver_nationality|    team|grid|fastest_lap|  race_time|points|position|        created_date|\n",
      "+---------+--------------------+-------------------+----------------+---------------+-------------+------------------+--------+----+-----------+-----------+------+--------+--------------------+\n",
      "|     2020|Abu Dhabi Grand Prix|2020-12-13 13:10:00|       Abu Dhabi| Max Verstappen|           33|             Dutch|Red Bull|   1|         14|1:36:28.645|  25.0|       1|2023-08-20 11:23:...|\n",
      "|     2020|Abu Dhabi Grand Prix|2020-12-13 13:10:00|       Abu Dhabi|Valtteri Bottas|           77|           Finnish|Mercedes|   2|         40|    +15.976|  18.0|       2|2023-08-20 11:23:...|\n",
      "|     2020|Abu Dhabi Grand Prix|2020-12-13 13:10:00|       Abu Dhabi| Lewis Hamilton|           44|           British|Mercedes|   3|         37|    +18.415|  15.0|       3|2023-08-20 11:23:...|\n",
      "|     2020|Abu Dhabi Grand Prix|2020-12-13 13:10:00|       Abu Dhabi|Alexander Albon|           23|              Thai|Red Bull|   5|         42|    +19.987|  12.0|       4|2023-08-20 11:23:...|\n",
      "|     2020|Abu Dhabi Grand Prix|2020-12-13 13:10:00|       Abu Dhabi|   Lando Norris|            4|           British| McLaren|   4|         53|  +1:00.729|  10.0|       5|2023-08-20 11:23:...|\n",
      "+---------+--------------------+-------------------+----------------+---------------+-------------+------------------+--------+----+-----------+-----------+------+--------+--------------------+\n",
      "only showing top 5 rows\n",
      "\n"
     ]
    }
   ],
   "source": [
    "final_df.filter(\"race_year == 2020 and race_name == 'Abu Dhabi Grand Prix'\").orderBy(final_df.points.desc()).show(5)"
   ]
  },
  {
   "cell_type": "code",
   "execution_count": 11,
   "metadata": {},
   "outputs": [],
   "source": [
    "final_df.write.mode(\"overwrite\").parquet(f\"{presentation_folder_path}/race_results\")"
   ]
  },
  {
   "cell_type": "code",
   "execution_count": null,
   "metadata": {},
   "outputs": [],
   "source": []
  }
 ],
 "metadata": {
  "kernelspec": {
   "display_name": "Python 3",
   "language": "python",
   "name": "python3"
  },
  "language_info": {
   "codemirror_mode": {
    "name": "ipython",
    "version": 3
   },
   "file_extension": ".py",
   "mimetype": "text/x-python",
   "name": "python",
   "nbconvert_exporter": "python",
   "pygments_lexer": "ipython3",
   "version": "3.6.9"
  }
 },
 "nbformat": 4,
 "nbformat_minor": 2
}
