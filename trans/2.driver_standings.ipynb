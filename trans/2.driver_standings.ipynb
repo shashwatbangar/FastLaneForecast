{
 "cells": [
  {
   "cell_type": "markdown",
   "metadata": {},
   "source": [
    "## Create spark context"
   ]
  },
  {
   "cell_type": "code",
   "execution_count": 12,
   "metadata": {},
   "outputs": [],
   "source": [
    "#Entrypoint 2.x\n",
    "from pyspark.sql import SparkSession\n",
    "from pyspark.sql.types import *\n",
    "from pyspark.sql.functions import *\n",
    "from pyspark.sql.window import Window\n",
    "spark = SparkSession.builder.config(\"spark.sql.shuffle.partitions\", \"2\").appName(\"Analysis\").master(\"local[2]\").getOrCreate()\n",
    "\n",
    "# On yarn:\n",
    "# spark = SparkSession.builder.appName(\"Spark SQL basic example\").enableHiveSupport().master(\"yarn\").getOrCreate()\n",
    "# specify .master(\"yarn\")\n",
    "\n",
    "sc = spark.sparkContext"
   ]
  },
  {
   "cell_type": "code",
   "execution_count": 3,
   "metadata": {},
   "outputs": [],
   "source": [
    "%run \"../includes/configuration\""
   ]
  },
  {
   "cell_type": "markdown",
   "metadata": {},
   "source": [
    "## Read the data required"
   ]
  },
  {
   "cell_type": "code",
   "execution_count": 4,
   "metadata": {},
   "outputs": [],
   "source": [
    "race_results_df = spark.read.parquet(f\"{presentation_folder_path}/race_results\") "
   ]
  },
  {
   "cell_type": "code",
   "execution_count": 5,
   "metadata": {},
   "outputs": [
    {
     "name": "stdout",
     "output_type": "stream",
     "text": [
      "+---------+--------------------+-------------------+----------------+---------------+-------------+------------------+------------+----+-----------+---------+------+--------+--------------------+\n",
      "|race_year|           race_name|          race_date|circuit_location|    driver_name|driver_number|driver_nationality|        team|grid|fastest_lap|race_time|points|position|        created_date|\n",
      "+---------+--------------------+-------------------+----------------+---------------+-------------+------------------+------------+----+-----------+---------+------+--------+--------------------+\n",
      "|     2018|Australian Grand ...|2018-03-25 05:10:00|       Melbourne|Sergey Sirotkin|           35|           Russian|    Williams|  19|          3|       \\N|   0.0|    null|2023-08-17 15:42:...|\n",
      "|     2018|Australian Grand ...|2018-03-25 05:10:00|       Melbourne|Marcus Ericsson|            9|           Swedish|      Sauber|  17|          4|       \\N|   0.0|    null|2023-08-17 15:42:...|\n",
      "|     2018|Australian Grand ...|2018-03-25 05:10:00|       Melbourne|   Pierre Gasly|           10|            French|  Toro Rosso|  20|         13|       \\N|   0.0|    null|2023-08-17 15:42:...|\n",
      "|     2018|Australian Grand ...|2018-03-25 05:10:00|       Melbourne|Kevin Magnussen|           20|            Danish|Haas F1 Team|   5|         21|       \\N|   0.0|    null|2023-08-17 15:42:...|\n",
      "|     2018|Australian Grand ...|2018-03-25 05:10:00|       Melbourne|Romain Grosjean|            8|            French|Haas F1 Team|   6|         23|       \\N|   0.0|    null|2023-08-17 15:42:...|\n",
      "+---------+--------------------+-------------------+----------------+---------------+-------------+------------------+------------+----+-----------+---------+------+--------+--------------------+\n",
      "only showing top 5 rows\n",
      "\n"
     ]
    }
   ],
   "source": [
    "race_results_df.show(5)"
   ]
  },
  {
   "cell_type": "code",
   "execution_count": 10,
   "metadata": {},
   "outputs": [],
   "source": [
    "driver_standings_df = race_results_df\\\n",
    ".groupBy(\"race_year\", \"driver_name\", \"driver_nationality\", \"team\")\\\n",
    ".agg(sum(\"points\").alias(\"total_points\"), count(when(col(\"position\") == 1, True)).alias(\"wins\"))"
   ]
  },
  {
   "cell_type": "code",
   "execution_count": 11,
   "metadata": {},
   "outputs": [
    {
     "name": "stdout",
     "output_type": "stream",
     "text": [
      "+---------+------------------+------------------+------------+------------+----+\n",
      "|race_year|       driver_name|driver_nationality|        team|total_points|wins|\n",
      "+---------+------------------+------------------+------------+------------+----+\n",
      "|     2020|  Daniel Ricciardo|        Australian|     Renault|       119.0|   0|\n",
      "|     2020|   Romain Grosjean|            French|Haas F1 Team|         2.0|   0|\n",
      "|     2020|    Kimi Räikkönen|           Finnish|  Alfa Romeo|         4.0|   0|\n",
      "|     2020|      Esteban Ocon|            French|     Renault|        62.0|   0|\n",
      "|     2020|      Sergio Pérez|           Mexican|Racing Point|       125.0|   1|\n",
      "|     2020|      Carlos Sainz|           Spanish|     McLaren|       105.0|   0|\n",
      "|     2020|   Nico Hülkenberg|            German|Racing Point|        10.0|   0|\n",
      "|     2020| Pietro Fittipaldi|         Brazilian|Haas F1 Team|         0.0|   0|\n",
      "|     2020|    George Russell|           British|    Mercedes|         3.0|   0|\n",
      "|     2020|    Max Verstappen|             Dutch|    Red Bull|       214.0|   2|\n",
      "|     2020|      Lance Stroll|          Canadian|Racing Point|        75.0|   0|\n",
      "|     2020|   Kevin Magnussen|            Danish|Haas F1 Team|         1.0|   0|\n",
      "|     2020|    George Russell|           British|    Williams|         0.0|   0|\n",
      "|     2020|   Alexander Albon|              Thai|    Red Bull|       105.0|   0|\n",
      "|     2020|      Daniil Kvyat|           Russian|  AlphaTauri|        32.0|   0|\n",
      "|     2020|   Nicholas Latifi|          Canadian|    Williams|         0.0|   0|\n",
      "|     2020|  Sebastian Vettel|            German|     Ferrari|        33.0|   0|\n",
      "|     2020|Antonio Giovinazzi|           Italian|  Alfa Romeo|         4.0|   0|\n",
      "|     2020|      Pierre Gasly|            French|  AlphaTauri|        75.0|   1|\n",
      "|     2020|    Lewis Hamilton|           British|    Mercedes|       347.0|  11|\n",
      "+---------+------------------+------------------+------------+------------+----+\n",
      "only showing top 20 rows\n",
      "\n"
     ]
    }
   ],
   "source": [
    "driver_standings_df.filter(\"race_year == 2020\").show()"
   ]
  },
  {
   "cell_type": "code",
   "execution_count": 14,
   "metadata": {},
   "outputs": [],
   "source": [
    "driver_rank_spec = Window.partitionBy(\"race_year\").orderBy(desc(\"total_points\"), desc(\"wins\"))\n",
    "final_df = driver_standings_df.withColumn(\"rank\", rank().over(driver_rank_spec))"
   ]
  },
  {
   "cell_type": "code",
   "execution_count": 16,
   "metadata": {
    "scrolled": true
   },
   "outputs": [
    {
     "name": "stdout",
     "output_type": "stream",
     "text": [
      "+---------+------------------+------------------+------------+------------+----+----+\n",
      "|race_year|       driver_name|driver_nationality|        team|total_points|wins|rank|\n",
      "+---------+------------------+------------------+------------+------------+----+----+\n",
      "|     2020|    Lewis Hamilton|           British|    Mercedes|       347.0|  11|   1|\n",
      "|     2020|   Valtteri Bottas|           Finnish|    Mercedes|       223.0|   2|   2|\n",
      "|     2020|    Max Verstappen|             Dutch|    Red Bull|       214.0|   2|   3|\n",
      "|     2020|      Sergio Pérez|           Mexican|Racing Point|       125.0|   1|   4|\n",
      "|     2020|  Daniel Ricciardo|        Australian|     Renault|       119.0|   0|   5|\n",
      "|     2020|      Carlos Sainz|           Spanish|     McLaren|       105.0|   0|   6|\n",
      "|     2020|   Alexander Albon|              Thai|    Red Bull|       105.0|   0|   6|\n",
      "|     2020|   Charles Leclerc|        Monegasque|     Ferrari|        98.0|   0|   8|\n",
      "|     2020|      Lando Norris|           British|     McLaren|        97.0|   0|   9|\n",
      "|     2020|      Pierre Gasly|            French|  AlphaTauri|        75.0|   1|  10|\n",
      "|     2020|      Lance Stroll|          Canadian|Racing Point|        75.0|   0|  11|\n",
      "|     2020|      Esteban Ocon|            French|     Renault|        62.0|   0|  12|\n",
      "|     2020|  Sebastian Vettel|            German|     Ferrari|        33.0|   0|  13|\n",
      "|     2020|      Daniil Kvyat|           Russian|  AlphaTauri|        32.0|   0|  14|\n",
      "|     2020|   Nico Hülkenberg|            German|Racing Point|        10.0|   0|  15|\n",
      "|     2020|    Kimi Räikkönen|           Finnish|  Alfa Romeo|         4.0|   0|  16|\n",
      "|     2020|Antonio Giovinazzi|           Italian|  Alfa Romeo|         4.0|   0|  16|\n",
      "|     2020|    George Russell|           British|    Mercedes|         3.0|   0|  18|\n",
      "|     2020|   Romain Grosjean|            French|Haas F1 Team|         2.0|   0|  19|\n",
      "|     2020|   Kevin Magnussen|            Danish|Haas F1 Team|         1.0|   0|  20|\n",
      "+---------+------------------+------------------+------------+------------+----+----+\n",
      "only showing top 20 rows\n",
      "\n"
     ]
    }
   ],
   "source": [
    "final_df.filter(\"race_year == 2020\").show()"
   ]
  },
  {
   "cell_type": "code",
   "execution_count": 17,
   "metadata": {},
   "outputs": [],
   "source": [
    "final_df.write.mode(\"overwrite\").parquet(f\"{presentation_folder_path}/driver_standings\")"
   ]
  },
  {
   "cell_type": "code",
   "execution_count": null,
   "metadata": {},
   "outputs": [],
   "source": []
  }
 ],
 "metadata": {
  "kernelspec": {
   "display_name": "Python 3",
   "language": "python",
   "name": "python3"
  },
  "language_info": {
   "codemirror_mode": {
    "name": "ipython",
    "version": 3
   },
   "file_extension": ".py",
   "mimetype": "text/x-python",
   "name": "python",
   "nbconvert_exporter": "python",
   "pygments_lexer": "ipython3",
   "version": "3.6.9"
  }
 },
 "nbformat": 4,
 "nbformat_minor": 2
}
